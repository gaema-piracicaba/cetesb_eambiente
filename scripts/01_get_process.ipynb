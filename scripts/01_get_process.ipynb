{
 "cells": [
  {
   "cell_type": "markdown",
   "id": "e0918cd5",
   "metadata": {},
   "source": [
    "<br>\n",
    "\n",
    "# Introdução\n"
   ]
  },
  {
   "cell_type": "code",
   "execution_count": null,
   "id": "cb021e72-d112-48ac-916e-c52256253c9c",
   "metadata": {},
   "outputs": [],
   "source": [
    "#!pip3 install PyPDF2\n"
   ]
  },
  {
   "cell_type": "code",
   "execution_count": null,
   "id": "04bca602",
   "metadata": {},
   "outputs": [],
   "source": [
    "import os\n",
    "import re\n",
    "import shutil\n",
    "import time\n",
    "import urllib.parse\n",
    "import urllib.request\n",
    "from pathlib import Path\n",
    "\n",
    "import numpy as np\n",
    "import pandas as pd\n",
    "import requests\n",
    "from dotenv import dotenv_values, find_dotenv\n",
    "from more_itertools import one\n",
    "from my_driver import Driver\n",
    "from paths import adds_path, data_path, driver_path, log_path, temp_path\n",
    "from PyPDF2 import PdfFileMerger, PdfFileReader, PdfMerger, PdfReader\n",
    "from selenium.webdriver.common.by import By\n",
    "from selenium.webdriver.support import expected_conditions as EC\n",
    "from selenium.webdriver.support.wait import WebDriverWait\n"
   ]
  },
  {
   "cell_type": "code",
   "execution_count": null,
   "id": "16f55f31-d267-4c89-aae5-b7c9b6025b0c",
   "metadata": {},
   "outputs": [],
   "source": [
    "# Credenciais\n",
    "config = dotenv_values(find_dotenv(usecwd=True))\n",
    "\n",
    "# Variáveis\n",
    "CPF = config['CPF']\n",
    "PASSWORD = config['PASSWORD']\n"
   ]
  },
  {
   "cell_type": "markdown",
   "id": "eacaff90",
   "metadata": {},
   "source": [
    "<br>\n",
    "\n",
    "## Create Driver\n"
   ]
  },
  {
   "cell_type": "code",
   "execution_count": null,
   "id": "4b6cb1b6",
   "metadata": {},
   "outputs": [],
   "source": [
    "driver = Driver(\n",
    "    my_driver_path=driver_path,\n",
    "    my_logs_path=log_path,\n",
    "    my_download_path=temp_path,\n",
    "    verify_ssl=False,\n",
    ")\n",
    "driver.add_extension_xpath(adds_path)\n"
   ]
  },
  {
   "cell_type": "markdown",
   "id": "0a83b098",
   "metadata": {},
   "source": [
    "<br>\n",
    "\n",
    "## Faz Login\n"
   ]
  },
  {
   "cell_type": "code",
   "execution_count": null,
   "id": "bf47eb5d",
   "metadata": {},
   "outputs": [],
   "source": [
    "def fecha_popups():\n",
    "    # Hide Popup Tour\n",
    "    try:\n",
    "        tour = driver.find_element(\n",
    "            By.XPATH,\n",
    "            '//*[@class=\"hopscotch-bubble animated tour-portalTour\"]//*[@class=\"hopscotch-actions\"]//..',\n",
    "        )\n",
    "        tour = tour.find_element(\n",
    "            By.XPATH, './/*[@class=\"hopscotch-bubble-close hopscotch-close\"]'\n",
    "        )\n",
    "        tour.click()\n",
    "    except:\n",
    "        pass\n"
   ]
  },
  {
   "cell_type": "code",
   "execution_count": null,
   "id": "26607c6d",
   "metadata": {},
   "outputs": [],
   "source": [
    "def get_login(cpf, password):\n",
    "    \"\"\"\n",
    "    Faz o login\n",
    "\n",
    "    :param cpf: _description_\n",
    "    :type cpf: _type_\n",
    "    :param password: _description_\n",
    "    :type password: _type_\n",
    "    \"\"\"\n",
    "    url = 'https://e.ambiente.sp.gov.br/atendimento/login'\n",
    "    driver.get(url)\n",
    "    time.sleep(1)\n",
    "\n",
    "    try:\n",
    "        # Clica em entrar\n",
    "        WebDriverWait(driver, 20).until(\n",
    "            EC.presence_of_element_located(\n",
    "                (By.XPATH, '//a[contains(@aria-label, \"Entrar\")]')\n",
    "            )\n",
    "        ).click()\n",
    "    except:\n",
    "        pass\n",
    "\n",
    "    try:\n",
    "        # Entra com credenciais\n",
    "        WebDriverWait(driver, 20).until(\n",
    "            EC.presence_of_element_located(\n",
    "                (By.XPATH, '//*[@id=\"identificacao\"]')\n",
    "            )\n",
    "        ).send_keys(cpf)\n",
    "        WebDriverWait(driver, 20).until(\n",
    "            EC.presence_of_element_located((By.XPATH, '//*[@id=\"senha\"]'))\n",
    "        ).send_keys(password)\n",
    "\n",
    "        # Clica em entrar\n",
    "        WebDriverWait(driver, 20).until(\n",
    "            EC.presence_of_element_located(\n",
    "                (\n",
    "                    By.XPATH,\n",
    "                    '//button[contains(@class, \"sds-btn sds-btn--raised sds-btn--full-width\")]',\n",
    "                )\n",
    "            )\n",
    "        ).click()\n",
    "\n",
    "    except Exception as e:\n",
    "        print(e)\n"
   ]
  },
  {
   "cell_type": "code",
   "execution_count": null,
   "id": "d63f048a",
   "metadata": {},
   "outputs": [],
   "source": [
    "# Login\n",
    "get_login(CPF, PASSWORD)\n"
   ]
  },
  {
   "attachments": {},
   "cell_type": "markdown",
   "id": "99860239",
   "metadata": {},
   "source": [
    "<br>\n",
    "\n",
    "## Go To\n"
   ]
  },
  {
   "cell_type": "code",
   "execution_count": null,
   "id": "96876b8c",
   "metadata": {},
   "outputs": [],
   "source": [
    "def open_sidebar():\n",
    "    \"\"\"\n",
    "    Mantem aba laberal aberta\n",
    "    \"\"\"\n",
    "    # Retorna para a janela principal (fora do iframe)\n",
    "    try:\n",
    "        driver.find_element(By.XPATH, '//a[contains(@aria-expanded, \"false\")]')\n",
    "        driver.find_element(By.XPATH, '//a[contains(@aria-expanded, \"false\")]').click()\n",
    "        print('Abrindo menu lateral...')\n",
    "    except:\n",
    "        pass\n",
    "    \n",
    "    try:\n",
    "        driver.find_element(By.XPATH, '//a[contains(@aria-expanded, \"true\")]')        \n",
    "    except:\n",
    "        pass\n",
    "    time.sleep(1)\n",
    "    "
   ]
  },
  {
   "cell_type": "code",
   "execution_count": null,
   "id": "515ee75b",
   "metadata": {},
   "outputs": [],
   "source": [
    "open_sidebar()\n"
   ]
  },
  {
   "cell_type": "code",
   "execution_count": null,
   "id": "8b624b1e",
   "metadata": {},
   "outputs": [],
   "source": [
    "def go_to(my_option):\n",
    "    \"\"\"\n",
    "    Vai pra aba \"Meus Processos\"\n",
    "    \"\"\"\n",
    "    # Open Sidebar\n",
    "    open_sidebar()\n",
    "\n",
    "    options = [\n",
    "        'Início',\n",
    "        'Consulta de Processos',\n",
    "        'Meus Processos',\n",
    "        'Processos Liberados',\n",
    "        'Meus Dados',\n",
    "    ]\n",
    "\n",
    "    # Checa se Está dentre as Opções\n",
    "    if my_option in options:\n",
    "        pass\n",
    "    else:\n",
    "        raise Exception(f'Precisa estar entre: {options}')\n",
    "\n",
    "    # Clica na Opção\n",
    "    if my_option.lower() in driver.title.lower():\n",
    "        pass\n",
    "    else:\n",
    "        WebDriverWait(driver, 20).until(\n",
    "            EC.presence_of_element_located(\n",
    "                (By.XPATH, f'//*[@aria-label=\"{my_option}\"]')\n",
    "            )\n",
    "        ).click()\n",
    "\n",
    "    while driver.execute_script('return document.readyState') != 'complete':\n",
    "        print(driver.execute_script('return document.readyState'))\n",
    "        time.sleep(1)\n",
    "    time.sleep(3)\n"
   ]
  },
  {
   "cell_type": "code",
   "execution_count": null,
   "id": "2e5160d6",
   "metadata": {},
   "outputs": [],
   "source": [
    "go_to('Meus Processos')\n",
    "go_to('Processos Liberados')\n",
    "go_to('Meus Dados')\n"
   ]
  },
  {
   "cell_type": "markdown",
   "id": "cd78b74b",
   "metadata": {},
   "source": [
    "<br>\n",
    "\n",
    "## Meus Processos\n"
   ]
  },
  {
   "cell_type": "code",
   "execution_count": null,
   "id": "33f6d195",
   "metadata": {},
   "outputs": [],
   "source": [
    "def meus_processos():\n",
    "    \"\"\"\n",
    "    Pega dados dos \"Meus Processos\"\n",
    "\n",
    "    :return: Tabela com dados dos Meus Processos \"em andamento\"\n",
    "    :rtype: dataframe\n",
    "    \"\"\"\n",
    "    # Open Sidebar\n",
    "    open_sidebar()\n",
    "\n",
    "    # Go Page\n",
    "    go_to('Meus Processos')\n",
    "\n",
    "    processos_xpath = driver.find_element(\n",
    "        By.XPATH, '//section[@aria-label=\"Processos\"]'\n",
    "    )\n",
    "    processos_andamento_xpath = processos_xpath.find_element(\n",
    "        By.XPATH, './/div[contains(@class, \"solicitacoes-EM_ANDAMENTO\")]'\n",
    "    )\n",
    "    list_cards = processos_andamento_xpath.find_elements(\n",
    "        By.XPATH, './/div[contains(@class, \"solicitacao-card\")]'\n",
    "    )\n",
    "\n",
    "    list_dicts = []\n",
    "    for card in list_cards:\n",
    "        title = card.find_element(By.XPATH, './/h2').text\n",
    "        url = card.find_element(By.XPATH, './/a').get_attribute('href')\n",
    "        processo = card.find_element(By.XPATH, './/p').text\n",
    "        # print(processo)\n",
    "        list_dicts.append({'tipo': title, 'url': url, 'processo': processo})\n",
    "\n",
    "    # Dataframe\n",
    "    return pd.DataFrame(list_dicts)\n"
   ]
  },
  {
   "cell_type": "code",
   "execution_count": null,
   "id": "7a715c6a",
   "metadata": {},
   "outputs": [],
   "source": [
    "meus_processos()\n"
   ]
  },
  {
   "cell_type": "markdown",
   "id": "b9c93aaa",
   "metadata": {},
   "source": [
    "<br>\n",
    "\n",
    "## Processos Liberados\n"
   ]
  },
  {
   "cell_type": "code",
   "execution_count": null,
   "id": "ed2f76e6",
   "metadata": {},
   "outputs": [],
   "source": [
    "def processos_liberados():\n",
    "    \"\"\"\n",
    "    Cria uma tabela com os processos liberados\n",
    "\n",
    "    :return: Tabela com dados dos Processos Liberados\n",
    "    :rtype: dataframe\n",
    "    \"\"\"\n",
    "    # Open Sidebar\n",
    "    open_sidebar()\n",
    "\n",
    "    # Go Page\n",
    "    go_to('Processos Liberados')\n",
    "\n",
    "    # dddd\n",
    "    processos_xpath = driver.find_element(\n",
    "        By.XPATH, '//section[@aria-label=\"Processos\"]'\n",
    "    )\n",
    "    list_cards = processos_xpath.find_elements(\n",
    "        By.XPATH,\n",
    "        './/section[contains(@class, \"released-processes-card-container\")]',\n",
    "    )\n",
    "    list_dicts = []\n",
    "    for card in list_cards:\n",
    "        title = card.find_element(By.XPATH, './/p').text\n",
    "        url = card.find_element(By.XPATH, './/a').get_attribute('href')\n",
    "        a = card.find_element(\n",
    "            By.XPATH, '//div[contains(@class, \"info-user-content\")]'\n",
    "        ).text\n",
    "        processo = card.find_element(By.XPATH, './/p').text\n",
    "        # print(a.split('\\n'))\n",
    "        # print(url)\n",
    "        list_dicts.append({'tipo': title, 'url': url, 'processo': processo})\n",
    "\n",
    "    # Dataframe\n",
    "    return pd.DataFrame(list_dicts)\n"
   ]
  },
  {
   "cell_type": "code",
   "execution_count": null,
   "id": "93c1c463",
   "metadata": {},
   "outputs": [],
   "source": [
    "# Processos Liberados\n",
    "df_processosliberados = processos_liberados()\n",
    "df_processosliberados.head()\n"
   ]
  },
  {
   "attachments": {},
   "cell_type": "markdown",
   "id": "02a87cf2",
   "metadata": {},
   "source": [
    "<br>\n",
    "\n",
    "## Select Process\n"
   ]
  },
  {
   "cell_type": "code",
   "execution_count": null,
   "id": "89c41144",
   "metadata": {},
   "outputs": [],
   "source": [
    "def select_processo(df_processosliberados):\n",
    "    \"\"\"\n",
    "    Seleciona o Processo\n",
    "\n",
    "    :param df_processosliberados: _description_\n",
    "    :type df_processosliberados: _type_\n",
    "    :return: _description_\n",
    "    :rtype: _type_\n",
    "    \"\"\"\n",
    "    list_index = list(df_processosliberados.index)\n",
    "    if len(list_index) == 1:\n",
    "        processo = one(list_index)\n",
    "        msg = 'O único com acesso ativo.'\n",
    "\n",
    "    else:\n",
    "        # Input\n",
    "        valores = ''.join('{}'.format(list(df_processosliberados.index)))\n",
    "        processo = int(\n",
    "            input(\n",
    "                f'Insira o número do índice do processo. O número deve estar entre {valores}: '\n",
    "            )\n",
    "        )\n",
    "\n",
    "        # Check se o processo está no índice\n",
    "        while not (processo in list(df_processosliberados.index)):\n",
    "            print(\n",
    "                'Número não consta no índice. Por favor, insira um número válido!'\n",
    "            )\n",
    "            processo = int(\n",
    "                input(\n",
    "                    f'Insira o número do índice do processo. O número deve estar entre {valores}: '\n",
    "                )\n",
    "            )\n",
    "            msg = f'Escolhido entre os {len(list_index)} processos com acesso ativo.'\n",
    "\n",
    "    # Result\n",
    "    processo_text = df_processosliberados.loc[processo, 'processo']\n",
    "    print(f'O processo escolhido foi \"{processo_text}\".\\n{msg}')\n",
    "    return processo, processo_text\n"
   ]
  },
  {
   "cell_type": "code",
   "execution_count": null,
   "id": "fc44c831",
   "metadata": {},
   "outputs": [],
   "source": [
    "# Select Process\n",
    "n_processo, processo_text = select_processo(df_processosliberados)\n"
   ]
  },
  {
   "cell_type": "markdown",
   "id": "10a650b7",
   "metadata": {},
   "source": [
    "<br>\n",
    "\n",
    "## get_file_list\n"
   ]
  },
  {
   "cell_type": "code",
   "execution_count": null,
   "id": "c0f07bab",
   "metadata": {},
   "outputs": [],
   "source": [
    "def get_file_list(processo):\n",
    "    \"\"\"\n",
    "    url_1 é a primeira url... que, ao abrir, já muda...\n",
    "    \"\"\"\n",
    "    # Open Sidebar\n",
    "    open_sidebar()\n",
    "\n",
    "    # Go Page\n",
    "    go_to('Processos Liberados')\n",
    "\n",
    "    # Lista Processos\n",
    "    tag = '//*[@class=\"sds-collapse-list sds-card liberacao-collapse-container\"]//*[@class=\"sds-collapse-list__item\"]'\n",
    "    WebDriverWait(driver, 3).until(\n",
    "        EC.presence_of_element_located((By.XPATH, tag))\n",
    "    )\n",
    "    list_process = driver.find_elements(By.XPATH, tag)\n",
    "\n",
    "    # Minimiza todos os processos\n",
    "    for process in list_process:\n",
    "        try:\n",
    "            tag = './/button[@class=\"sds-btn sds-btn--icon button-rotate\"]'\n",
    "            WebDriverWait(process, 1).until(\n",
    "                EC.presence_of_element_located((By.XPATH, tag))\n",
    "            ).click()\n",
    "\n",
    "        except:\n",
    "            pass\n",
    "\n",
    "    # Seleciona Processo\n",
    "    WebDriverWait(list_process[processo], 1).until(\n",
    "        EC.presence_of_element_located(\n",
    "            (By.XPATH, './/button[@class=\"sds-btn sds-btn--icon\"]')\n",
    "        )\n",
    "    ).click()\n",
    "\n",
    "    # Lista de todos os arquivos do processo\n",
    "    tag = '//*[@id=\"secao-documentos{}\"]//*[@class=\"sds-data-list\"]//*[@class=\"sds-data-list__item\"]'.format(\n",
    "        processo\n",
    "    )\n",
    "    WebDriverWait(list_process[processo], 3).until(\n",
    "        EC.presence_of_element_located((By.XPATH, tag))\n",
    "    )\n",
    "    files = driver.find_elements(By.XPATH, tag)\n",
    "\n",
    "    # Loop\n",
    "    list_name = []\n",
    "    list_url = []\n",
    "    for file in files:\n",
    "        name = file.find_element(By.XPATH, './/span').text\n",
    "        url = file.find_element(\n",
    "            By.XPATH, './/*[@class=\"sds-link\"]'\n",
    "        ).get_attribute('href')\n",
    "        list_name.append(name)\n",
    "        list_url.append(url)\n",
    "\n",
    "    # Dataframe\n",
    "    df = pd.DataFrame(list(zip(list_name, list_url)), columns=['nome', 'url_1'])\n",
    "    df['n_doc'] = df.index + 1\n",
    "    return df[['n_doc', 'nome', 'url_1']]\n"
   ]
  },
  {
   "cell_type": "code",
   "execution_count": null,
   "id": "c141189a",
   "metadata": {},
   "outputs": [],
   "source": [
    "# dddd\n",
    "processos_xpath = driver.find_element(\n",
    "    By.XPATH, '//section[@aria-label=\"Processos\"]'\n",
    ")\n",
    "list_cards = processos_xpath.find_elements(\n",
    "    By.XPATH,\n",
    "    './/section[contains(@class, \"released-processes-card-container\")]',\n",
    ")\n",
    "\n",
    "# ddd\n",
    "for card in list_cards:\n",
    "    title = card.find_element(By.XPATH, './/p').text\n",
    "    url = card.find_element(By.XPATH, './/a').get_attribute('href')\n",
    "    a = card.find_element(\n",
    "        By.XPATH, '//div[contains(@class, \"info-user-content\")]'\n",
    "    ).text\n",
    "    processo = card.find_element(By.XPATH, './/p').text\n",
    "    print(title)\n",
    "    processo_text22 = df_processosliberados.loc[n_processo, 'processo']\n",
    "    if title == processo_text22:\n",
    "        break\n",
    "\n",
    "# dddd\n",
    "anexos_xpath = card.find_element(\n",
    "    By.XPATH, './/div[@class=\"released-processes-docs-container\"]'\n",
    ")\n",
    "anexos_xpath.click()\n",
    "files = anexos_xpath.find_elements(\n",
    "    By.XPATH, './/div[@class=\"released-processes-docs-content\"]'\n",
    ")\n",
    "# print(aaa)\n",
    "# Loop\n",
    "list_name = []\n",
    "list_url = []\n",
    "for file in files:\n",
    "    name = file.text\n",
    "    list_name.append(name)\n",
    "\n",
    "    url = file.find_element(By.XPATH, './/a').get_attribute('href')\n",
    "    list_url.append(url)\n",
    "# Dataframe\n",
    "df = pd.DataFrame(list(zip(list_name, list_url)), columns=['nome', 'url_1'])\n",
    "df['n_doc'] = df.index + 1\n",
    "df = df[['n_doc', 'nome', 'url_1']]\n",
    "df\n"
   ]
  },
  {
   "cell_type": "markdown",
   "id": "40d674c0",
   "metadata": {},
   "source": [
    "<br>\n",
    "\n",
    "## get url redirects\n"
   ]
  },
  {
   "cell_type": "code",
   "execution_count": null,
   "id": "3e4453a5",
   "metadata": {},
   "outputs": [],
   "source": [
    "def get_url_redirects(url):\n",
    "    \"\"\"\n",
    "    url_2 é a url que tem uma barra em cima!\n",
    "    url_3 é o link pro PDF... e se ZIP, dá msg que não é possível dowload. Parâmetros Importantes!!!!\n",
    "    \"\"\"\n",
    "    # Get URL\n",
    "    driver.get(url)\n",
    "    time.sleep(2)\n",
    "\n",
    "    while driver.execute_script('return document.readyState') != 'complete':\n",
    "        time.sleep(2)\n",
    "\n",
    "    # URL 2\n",
    "    url1 = driver.current_url\n",
    "\n",
    "    # URL 3\n",
    "    driver.switch_to.default_content()\n",
    "    iframe_1 = WebDriverWait(driver, 10).until(\n",
    "        EC.presence_of_element_located((By.XPATH, '//iframe[@id=\"content\"]'))\n",
    "    )\n",
    "    url2 = iframe_1.get_attribute('src')\n",
    "    driver.switch_to.frame(iframe_1)\n",
    "\n",
    "    # URL Download\n",
    "    try:\n",
    "        # Se for PDF\n",
    "        iframe_2 = WebDriverWait(driver, 2).until(\n",
    "            EC.presence_of_element_located(\n",
    "                (By.XPATH, '//*[@class=\"pdjJsFrameViewer\"]')\n",
    "            )\n",
    "        )\n",
    "        url_temp = iframe_2.get_attribute('src')\n",
    "        url_download = urllib.parse.unquote(\n",
    "            url_temp, encoding='utf-8', errors='replace'\n",
    "        )\n",
    "        url_download = url_download.replace(\n",
    "            'go-docs-file-viewer/pdfjs/web/viewer.html?file=/', ''\n",
    "        )\n",
    "        pdf = True\n",
    "    except:\n",
    "        # Não é PDF\n",
    "        url_download = None\n",
    "        pdf = False\n",
    "\n",
    "    # Results\n",
    "    return list([url1, url2, url_download, pdf])\n"
   ]
  },
  {
   "cell_type": "code",
   "execution_count": null,
   "id": "57f70356",
   "metadata": {},
   "outputs": [],
   "source": [
    "processo_text_rename = processo_text.replace('.', '_').replace('/', '-')\n",
    "processo_text_rename\n"
   ]
  },
  {
   "cell_type": "code",
   "execution_count": null,
   "id": "2e0b3fd9",
   "metadata": {},
   "outputs": [],
   "source": [
    "# Create Directory\n",
    "processo_path = data_path / processo_text_rename\n",
    "processo_path.mkdir(exist_ok=True)\n"
   ]
  },
  {
   "cell_type": "code",
   "execution_count": null,
   "id": "82eec834",
   "metadata": {},
   "outputs": [],
   "source": [
    "# Lê Tabela\n",
    "df = pd.read_csv(processo_path / 'tab_arquivos.csv')\n",
    "df.info()\n",
    "df.head()\n"
   ]
  },
  {
   "cell_type": "code",
   "execution_count": null,
   "id": "5d74d57e",
   "metadata": {},
   "outputs": [],
   "source": [
    "# Adjust Table: Função 1: demoraaaaaaaa....\n",
    "df[['url_2', 'url_3', 'url_download', 'pdf']] = df.apply(\n",
    "    lambda x: get_url_redirects(x['url_1']), axis=1, result_type='expand'\n",
    ")\n"
   ]
  },
  {
   "cell_type": "code",
   "execution_count": null,
   "id": "1157eed0",
   "metadata": {},
   "outputs": [],
   "source": [
    "df.head()\n"
   ]
  },
  {
   "cell_type": "code",
   "execution_count": null,
   "id": "1172e4b6",
   "metadata": {},
   "outputs": [],
   "source": [
    "# Escreve Tabela\n",
    "df.to_csv(processo_path / 'tab_arquivos.csv', index=False)\n"
   ]
  },
  {
   "cell_type": "markdown",
   "id": "b4debd9f",
   "metadata": {},
   "source": [
    "<br>\n",
    "\n",
    "## Merge PDFs\n"
   ]
  },
  {
   "cell_type": "code",
   "execution_count": null,
   "id": "376b4289",
   "metadata": {},
   "outputs": [],
   "source": [
    "def merge_files(processo_path):\n",
    "    \"\"\"\n",
    "    Unifica todos os arquivos em um arquivo único.\n",
    "\n",
    "    :param processo_path: _description_\n",
    "    :type processo_path: _type_\n",
    "    :return: _description_\n",
    "    :rtype: _type_\n",
    "    \"\"\"\n",
    "    # Filename\n",
    "    a = processo_path / f'{\"Processo Unificado\"}.pdf'\n",
    "\n",
    "    # List Files\n",
    "    list_files = list(processo_path.glob('*.pdf'))\n",
    "    list_files = set(list_files)\n",
    "    list_files.discard(a)\n",
    "\n",
    "    # Lista documentos da Pasta\n",
    "    list_dict = []\n",
    "    for file in list_files:\n",
    "        # print(file.name)\n",
    "        n = file.name.split(' - ', 1)[0]\n",
    "        list_dict.append({'id': n, 'nomearquivo': file})\n",
    "\n",
    "    # Dataframe: files\n",
    "    df = pd.DataFrame(list_dict)\n",
    "    df['id'] = pd.to_numeric(df['id'])\n",
    "    df.sort_values(by=['id'], inplace=True)\n",
    "    df.reset_index(inplace=True)\n",
    "    df.drop(['index'], inplace=True, axis=1)\n",
    "\n",
    "    # Call the PdfFileMerger\n",
    "    merged_object = PdfMerger()\n",
    "    for k, v in df.iterrows():\n",
    "        bookmark = v['nomearquivo'].name\n",
    "        merged_object.append(\n",
    "            PdfReader(processo_path / f'{v[\"nomearquivo\"]}', 'rb'), bookmark\n",
    "        )\n",
    "\n",
    "    # Write all the files into a file which is named as shown below\n",
    "    merged_object.write(str(a))\n",
    "    return f'Doc Ok!'\n"
   ]
  },
  {
   "cell_type": "markdown",
   "id": "218d919c-9859-4600-88b5-b17cda91d2b1",
   "metadata": {},
   "source": [
    "<br>\n",
    "\n",
    "## Download\n"
   ]
  },
  {
   "cell_type": "code",
   "execution_count": null,
   "id": "8a522eaf-6835-47d5-a696-2975ddcef6fe",
   "metadata": {},
   "outputs": [],
   "source": [
    "def is_download_finished(temp_folder):\n",
    "    \"\"\"\n",
    "    https://stackoverflow.com/questions/34338897/python-selenium-find-out-when-a-download-has-completed\n",
    "    \"\"\"\n",
    "    firefox_temp_file = sorted(Path(temp_folder).glob('*.part'))\n",
    "    chrome_temp_file = sorted(Path(temp_folder).glob('*.crdownload'))\n",
    "    downloaded_files = sorted(Path(temp_folder).glob('*.*'))\n",
    "    if (\n",
    "        (len(firefox_temp_file) == 0)\n",
    "        and (len(chrome_temp_file) == 0)\n",
    "        and (len(downloaded_files) == 1)\n",
    "    ):\n",
    "        return True\n",
    "    else:\n",
    "        return False\n"
   ]
  },
  {
   "cell_type": "code",
   "execution_count": null,
   "id": "fefcc8d7-75e2-4570-b655-d7bab40fe9be",
   "metadata": {},
   "outputs": [],
   "source": [
    "def download_selenium(path_search, path_move, out_filename):\n",
    "    \"\"\"\n",
    "    _summary_\n",
    "\n",
    "    :param path_search: _description_\n",
    "    :type path_search: _type_\n",
    "    :param path_move: _description_\n",
    "    :type path_move: _type_\n",
    "    :param out_filename: _description_\n",
    "    :type out_filename: _type_\n",
    "    :raises Exception: _description_\n",
    "    \"\"\"\n",
    "    # ddd\n",
    "    list_zipfiles = list(path_search.glob('*.*'))\n",
    "    n_files = 0\n",
    "    tentativa = 0\n",
    "    while tentativa < 10 and n_files != 1:\n",
    "        n_files = len(list_zipfiles)\n",
    "        time.sleep(2)\n",
    "        tentativa += 1\n",
    "\n",
    "    tentativa2 = 0\n",
    "    test_download = is_download_finished(path_search)\n",
    "    while tentativa2 < 10 and not test_download:\n",
    "        time.sleep(2)\n",
    "        print(1)\n",
    "        test_download = is_download_finished(path_search)\n",
    "        tentativa2 += 1\n",
    "\n",
    "    if len(list_zipfiles) == 0:\n",
    "        time.sleep(1)\n",
    "\n",
    "    if len(list_zipfiles) == 1:\n",
    "        # Se tem o arquivo\n",
    "        # TODO: Add *.part ou *.crdownload\n",
    "\n",
    "        teste = list_zipfiles[0].is_file()\n",
    "        while teste:\n",
    "            shutil.move(\n",
    "                max([f for f in list_zipfiles], key=os.path.getctime),\n",
    "                path_move / f'{out_filename}',\n",
    "            )\n",
    "            time.sleep(2)\n",
    "\n",
    "            teste = list_zipfiles[0].is_file()\n",
    "        print(f'> Arquivo renomeado para \"{out_filename}\"')\n",
    "\n",
    "    if len(list_zipfiles) > 1:\n",
    "        time.sleep(1)\n",
    "        print(f'Tem mais de arquivo no diretório \"{path_search}\"\\nErro!!!!')\n",
    "        raise Exception('Ajustar função \"rename file\"')\n"
   ]
  },
  {
   "cell_type": "markdown",
   "id": "04507755",
   "metadata": {},
   "source": [
    "<br>\n",
    "\n",
    "# Rull All\n"
   ]
  },
  {
   "attachments": {},
   "cell_type": "markdown",
   "id": "4b054bed-4c3d-4358-b63f-915e1a6c1257",
   "metadata": {},
   "source": [
    "<br>\n",
    "\n",
    "## Parte 1\n"
   ]
  },
  {
   "cell_type": "code",
   "execution_count": null,
   "id": "af70de2d-8e87-464f-a07c-62643e258ee7",
   "metadata": {},
   "outputs": [],
   "source": [
    "# test2 = is_download_finished(temp_path)\n",
    "# print(test2)\n",
    "# tentativa = 0\n",
    "# while not test2 and tentativa < 10:\n",
    "#     test2 = is_download_finished(temp_path)\n",
    "#     print(test2)\n",
    "#     time.sleep(2)\n",
    "#     tentativa += 1\n"
   ]
  },
  {
   "cell_type": "code",
   "execution_count": null,
   "id": "d1e7feb3",
   "metadata": {},
   "outputs": [],
   "source": [
    "driver\n"
   ]
  },
  {
   "cell_type": "code",
   "execution_count": null,
   "id": "671d1788-0d98-4096-b197-3a27fc8d2859",
   "metadata": {},
   "outputs": [],
   "source": [
    "# Cria Driver\n",
    "# create_driver(temp_path)\n"
   ]
  },
  {
   "cell_type": "code",
   "execution_count": null,
   "id": "6dd8da56",
   "metadata": {},
   "outputs": [],
   "source": [
    "# Login\n",
    "get_login(CPF, PASSWORD)\n"
   ]
  },
  {
   "cell_type": "code",
   "execution_count": null,
   "id": "f7b577a7",
   "metadata": {},
   "outputs": [],
   "source": [
    "fecha_popups()\n"
   ]
  },
  {
   "cell_type": "code",
   "execution_count": null,
   "id": "73cf4adf",
   "metadata": {},
   "outputs": [],
   "source": [
    "# Meus Processos\n",
    "# df_meusprocessos = get_meusprocessos()\n",
    "# df_meusprocessos.head()\n"
   ]
  },
  {
   "cell_type": "code",
   "execution_count": null,
   "id": "f9295c53",
   "metadata": {},
   "outputs": [],
   "source": [
    "# Processos Liberados\n",
    "df_processosliberados = processos_liberados()\n",
    "df_processosliberados.head()\n"
   ]
  },
  {
   "cell_type": "code",
   "execution_count": null,
   "id": "7deb9d96",
   "metadata": {},
   "outputs": [],
   "source": [
    "# Select Process\n",
    "# processo, processo_text = select_processo(df_processosliberados)\n"
   ]
  },
  {
   "cell_type": "code",
   "execution_count": null,
   "id": "0bb5568f",
   "metadata": {},
   "outputs": [],
   "source": [
    "# Get File List\n",
    "df = get_file_list(processo)\n",
    "df.head()\n"
   ]
  },
  {
   "cell_type": "code",
   "execution_count": null,
   "id": "f9cb42bf",
   "metadata": {},
   "outputs": [],
   "source": [
    "# Adjust Table: Função 1: demoraaaaaaaa....\n",
    "df[['url_2', 'url_3', 'url_download', 'pdf']] = df.apply(\n",
    "    lambda x: get_url_redirects(x['url_1']), axis=1, result_type='expand'\n",
    ")\n"
   ]
  },
  {
   "cell_type": "code",
   "execution_count": null,
   "id": "74387d6d",
   "metadata": {},
   "outputs": [],
   "source": [
    "# Create Directory\n",
    "processo_path = data_path / processo_text\n",
    "processo_path.mkdir(exist_ok=True)\n"
   ]
  },
  {
   "cell_type": "code",
   "execution_count": null,
   "id": "7018bf70",
   "metadata": {},
   "outputs": [],
   "source": [
    "# Escreve Tabela\n",
    "df.to_csv(processo_path / 'tab_arquivos.csv', index=False)\n"
   ]
  },
  {
   "attachments": {},
   "cell_type": "markdown",
   "id": "70e9ae80-12c3-448e-bdfb-221c04b79269",
   "metadata": {},
   "source": [
    "<br>\n",
    "\n",
    "## Parte 2\n"
   ]
  },
  {
   "cell_type": "code",
   "execution_count": null,
   "id": "81b4ad38",
   "metadata": {},
   "outputs": [],
   "source": [
    "# Lê Tabela\n",
    "df = pd.read_csv(processo_path / 'tab_arquivos.csv')\n",
    "df.info()\n",
    "df.head()\n"
   ]
  },
  {
   "cell_type": "code",
   "execution_count": null,
   "id": "f875d0c9",
   "metadata": {},
   "outputs": [],
   "source": [
    "# Lê Tabela\n",
    "df = pd.read_csv(processo_path / 'tab_arquivos.csv')\n",
    "df.info()\n",
    "df.head()"
   ]
  },
  {
   "cell_type": "code",
   "execution_count": null,
   "id": "833e6d85",
   "metadata": {},
   "outputs": [],
   "source": [
    "# Filter\n",
    "mask = (df['n_doc'] >= 29) & (df['n_doc'] <= 50) & (df['pdf'] == True)\n",
    "df = df[mask].copy()\n",
    "\n",
    "# Results\n",
    "df.head()\n"
   ]
  },
  {
   "cell_type": "code",
   "execution_count": null,
   "id": "d0fd225a",
   "metadata": {},
   "outputs": [],
   "source": [
    "# https://stackoverflow.com/questions/29563335/how-do-i-load-session-and-cookies-from-selenium-browser-to-requests-library-in-p\n",
    "# Get cookies\n",
    "cookies = driver.get_cookies()\n",
    "\n",
    "# Create session from cookies\n",
    "s = requests.Session()\n",
    "for cookie in cookies:\n",
    "    s.cookies.set(cookie['name'], cookie['value'])\n"
   ]
  },
  {
   "cell_type": "code",
   "execution_count": null,
   "id": "c02b09d0-c9f5-4a28-9342-8c27183fbc5c",
   "metadata": {},
   "outputs": [],
   "source": [
    "# Loop thought table\n",
    "for k, v in df.iterrows():\n",
    "    # Parametros\n",
    "    n_doc = v['n_doc']\n",
    "    url_download = v['url_download']\n",
    "    url_2 = v['url_2']\n",
    "    nome = v['nome']\n",
    "    pdf = v['pdf']\n",
    "\n",
    "    # Se for PDF\n",
    "    if pdf:\n",
    "        print(f'Download do PDF {n_doc} - {nome}\\n{url_download}\\n')\n",
    "\n",
    "        # ddddddd\n",
    "        r = s.get(url_download, stream=True)\n",
    "        try:\n",
    "            text = r.content.decode('utf-8')\n",
    "            print(text)\n",
    "        except:\n",
    "            text = 'É PDF!'\n",
    "\n",
    "        # dddd\n",
    "        if (\n",
    "            text\n",
    "            != 'Não foi possível recuperar a liberação externa para este documento'\n",
    "        ):\n",
    "            # Salva Arquivo\n",
    "            time.sleep(5)\n",
    "\n",
    "            # Adjust Nome\n",
    "            nome = nome.replace('.pdf ', ' ')\n",
    "            nome = re.sub('[\\\\/:\"*?<>|]+', '', nome)\n",
    "\n",
    "            filename = processo_path / f'{n_doc} - {nome}.pdf'\n",
    "            if r.status_code == 200:\n",
    "                with open(filename, 'wb') as f:\n",
    "                    for chunk in r:\n",
    "                        f.write(chunk)\n",
    "\n",
    "        elif (\n",
    "            text\n",
    "            == 'Não foi possível recuperar a liberação externa para este documento'\n",
    "        ):\n",
    "            print('Arrumar esta merda!')\n",
    "\n",
    "    elif not pdf:\n",
    "        print(f'Download do arquivo {n_doc} - {nome}\\n{url_2}\\n')\n",
    "\n",
    "        # sss\n",
    "        driver.get(url_2)\n",
    "        driver.implicitly_wait(20)\n",
    "\n",
    "        # Retorna para a janela principal (fora do iframe)\n",
    "        driver.switch_to.default_content()\n",
    "\n",
    "        # Muda o foco para o iframe\n",
    "        iframe = WebDriverWait(driver, 3).until(\n",
    "            EC.presence_of_element_located((By.XPATH, '//*[@id=\"content\"]'))\n",
    "        )\n",
    "        driver.switch_to.frame(iframe)\n",
    "        time.sleep(1)\n",
    "\n",
    "        # Clica em Download\n",
    "        WebDriverWait(driver, 20).until(\n",
    "            EC.presence_of_element_located((By.XPATH, '//*[@id=\"btnDownload\"]'))\n",
    "        ).click()\n",
    "        time.sleep(20)\n",
    "\n",
    "        # Move\n",
    "        nome = nome.replace('.zip ', ' ').replace('.ZIP ', ' ')\n",
    "        download_selenium(temp_path, processo_path, f'{n_doc} - {nome}.zip')\n"
   ]
  },
  {
   "cell_type": "markdown",
   "id": "f35fbe72",
   "metadata": {},
   "source": [
    "<br>\n",
    "\n",
    "## Parte 3\n"
   ]
  },
  {
   "cell_type": "code",
   "execution_count": null,
   "id": "95a83154",
   "metadata": {},
   "outputs": [],
   "source": [
    "# Merge PDF\n",
    "merge_files(processo_path)\n"
   ]
  },
  {
   "cell_type": "code",
   "execution_count": null,
   "id": "5ee8d6cc-7f3f-4b71-8de7-0240ed9fe6c9",
   "metadata": {},
   "outputs": [],
   "source": [
    "# Fecha Driver\n",
    "driver.quit()\n"
   ]
  },
  {
   "cell_type": "code",
   "execution_count": null,
   "id": "c8ebb9e0-55bd-434f-8326-b731e28e9efc",
   "metadata": {},
   "outputs": [],
   "source": [
    "#\n",
    "temp_path.rmdir()\n"
   ]
  },
  {
   "cell_type": "code",
   "execution_count": null,
   "id": "00ca3105-7e9e-4787-9a9b-1b7c07ba3eec",
   "metadata": {},
   "outputs": [],
   "source": [
    "shutil.rmtree(temp_path)\n"
   ]
  },
  {
   "cell_type": "code",
   "execution_count": null,
   "id": "65ffe0c7-1430-4e98-a025-7aeac5af2788",
   "metadata": {},
   "outputs": [],
   "source": []
  }
 ],
 "metadata": {
  "kernelspec": {
   "display_name": "pablocarreira-lastest",
   "language": "python",
   "name": "python3"
  },
  "language_info": {
   "codemirror_mode": {
    "name": "ipython",
    "version": 3
   },
   "file_extension": ".py",
   "mimetype": "text/x-python",
   "name": "python",
   "nbconvert_exporter": "python",
   "pygments_lexer": "ipython3",
   "version": "3.10.8"
  },
  "toc-autonumbering": true,
  "vscode": {
   "interpreter": {
    "hash": "3eff2e4eec0fbea9d660dbbf3c9c38e7f3540f855f42d9d14e44150e78f59c2a"
   }
  }
 },
 "nbformat": 4,
 "nbformat_minor": 5
}
