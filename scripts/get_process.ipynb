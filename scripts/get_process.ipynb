{
 "cells": [
  {
   "cell_type": "markdown",
   "id": "e0918cd5",
   "metadata": {},
   "source": [
    "<br>\n",
    "\n",
    "# Introdução\n"
   ]
  },
  {
   "cell_type": "code",
   "execution_count": null,
   "id": "cb021e72-d112-48ac-916e-c52256253c9c",
   "metadata": {},
   "outputs": [],
   "source": [
    "#!pip3 install PyPDF2\n"
   ]
  },
  {
   "cell_type": "code",
   "execution_count": null,
   "id": "04bca602",
   "metadata": {},
   "outputs": [],
   "source": [
    "import os\n",
    "import re\n",
    "import time\n",
    "import shutil\n",
    "import requests\n",
    "import numpy as np\n",
    "import pandas as pd\n",
    "from pathlib import Path\n",
    "from PyPDF2 import PdfFileMerger, PdfFileReader\n"
   ]
  },
  {
   "cell_type": "code",
   "execution_count": null,
   "id": "03654741-d19d-493f-b1c7-71c2846355cc",
   "metadata": {},
   "outputs": [],
   "source": [
    "from urllib.parse import urljoin\n",
    "from urllib.parse import urlparse, urlunparse\n",
    "import urllib.parse\n",
    "import urllib.request\n"
   ]
  },
  {
   "cell_type": "code",
   "execution_count": null,
   "id": "f9e953e3",
   "metadata": {},
   "outputs": [],
   "source": [
    "from selenium import webdriver\n",
    "from selenium.webdriver.common.by import By\n",
    "from selenium.webdriver.support.ui import WebDriverWait\n",
    "from selenium.webdriver.support import expected_conditions as EC\n",
    "from selenium.webdriver.firefox.service import Service\n",
    "from selenium.webdriver.firefox.options import Options as FirefoxOptions\n",
    "from webdriver_manager.firefox import GeckoDriverManager\n"
   ]
  },
  {
   "cell_type": "code",
   "execution_count": null,
   "id": "29d62924-f3a1-4ebe-9975-06de2638f1f2",
   "metadata": {},
   "outputs": [],
   "source": [
    "from paths import *\n"
   ]
  },
  {
   "cell_type": "code",
   "execution_count": null,
   "id": "16f55f31-d267-4c89-aae5-b7c9b6025b0c",
   "metadata": {},
   "outputs": [],
   "source": [
    "from dotenv import load_dotenv, find_dotenv, dotenv_values\n",
    "\n",
    "# Credenciais\n",
    "config = dotenv_values(find_dotenv(usecwd=True))\n",
    "\n",
    "# Variaveis do Driver\n",
    "os.environ['GH_TOKEN'] = config['GH_TOKEN']\n",
    "CPF = config['CPF']\n",
    "PASSWORD = config['PASSWORD']\n"
   ]
  },
  {
   "cell_type": "markdown",
   "id": "eacaff90",
   "metadata": {},
   "source": [
    "<br>\n",
    "\n",
    "## Create Driver\n"
   ]
  },
  {
   "cell_type": "code",
   "execution_count": null,
   "id": "fa076ba9-29f1-4637-b424-e78dc5ccf743",
   "metadata": {},
   "outputs": [],
   "source": [
    "def create_driver(download_path):\n",
    "    # Parameters\n",
    "    DRIVER_PATH = driver_path\n",
    "    DRIVER_PATH = None\n",
    "    HEADLESS = False\n",
    "    #os.environ['WDM_SSL_VERIFY'] = '0'\n",
    "\n",
    "    # Cria Driver\n",
    "    global driver\n",
    "    firefox_options = FirefoxOptions()\n",
    "    firefox_options.headless = HEADLESS\n",
    "    firefox_options.set_preference('browser.download.folderList', 2)\n",
    "    firefox_options.set_preference(\n",
    "        'browser.download.manager.showWhenStarting', False)\n",
    "    firefox_options.set_preference('browser.download.dir', str(download_path))\n",
    "\n",
    "    driver = webdriver.Firefox(\n",
    "        service=Service(\n",
    "            executable_path=GeckoDriverManager(path=DRIVER_PATH).install(),\n",
    "            log_path=log_path / 'geckodriver.log',\n",
    "        ),\n",
    "        options=firefox_options,\n",
    "    )\n",
    "\n",
    "    # Add-ons Xpath\n",
    "    xpath_path = adds_path / 'xpath.xpi'\n",
    "    xpath_path = xpath_path.absolute().resolve()\n",
    "    if not xpath_path.is_file():\n",
    "        r = requests.get(\n",
    "            'https://addons.mozilla.org/firefox/downloads/file/3588871/xpath_finder-1.0.2-fx.xpi')\n",
    "        with open(xpath_path, 'wb') as f:\n",
    "            f.write(r.content)\n",
    "    driver.install_addon(str(xpath_path), temporary=True)\n"
   ]
  },
  {
   "cell_type": "markdown",
   "id": "0a83b098",
   "metadata": {},
   "source": [
    "<br>\n",
    "\n",
    "## Faz Login\n"
   ]
  },
  {
   "cell_type": "code",
   "execution_count": null,
   "id": "bf47eb5d",
   "metadata": {},
   "outputs": [],
   "source": [
    "def fecha_popups():\n",
    "    # Retorna para a janela principal (fora do iframe)\n",
    "    driver.switch_to.default_content()\n",
    "\n",
    "    # Hide Popup Tour\n",
    "    try:\n",
    "        tour = driver.find_element(\n",
    "            By.XPATH, '//*[@class=\"hopscotch-bubble animated tour-portalTour\"]//*[@class=\"hopscotch-actions\"]//..')\n",
    "        tour = tour.find_element(\n",
    "            By.XPATH, './/*[@class=\"hopscotch-bubble-close hopscotch-close\"]')\n",
    "        tour.click()\n",
    "    except:\n",
    "        pass\n"
   ]
  },
  {
   "cell_type": "code",
   "execution_count": null,
   "id": "26607c6d",
   "metadata": {},
   "outputs": [],
   "source": [
    "def get_login(cpf, password):\n",
    "    # Get Url\n",
    "    url = 'https://e.ambiente.sp.gov.br/atendimento/'\n",
    "    driver.get(url)\n",
    "\n",
    "    try:\n",
    "        # Efetuar Login\n",
    "        WebDriverWait(driver, 3).until(EC.presence_of_element_located(\n",
    "            (By.XPATH, '//*[@id=\"info-usuario\"]'))).click()\n",
    "\n",
    "        # Pega o XPath do iframe e atribui a uma variável\n",
    "        iframe = WebDriverWait(driver, 3).until(\n",
    "            EC.presence_of_element_located((By.XPATH, '//*[@id=\"iFrameForm\"]')))\n",
    "\n",
    "        # Muda o foco para o iframe\n",
    "        driver.switch_to.frame(iframe)\n",
    "\n",
    "        # Entra com credenciais\n",
    "        WebDriverWait(driver, 3).until(EC.presence_of_element_located(\n",
    "            (By.XPATH, '//*[@id=\"j_username\"]'))).send_keys(cpf)\n",
    "        WebDriverWait(driver, 3).until(EC.presence_of_element_located(\n",
    "            (By.XPATH, '//*[@id=\"j_password\"]'))).send_keys(password)\n",
    "\n",
    "        # Clica em entrar\n",
    "        WebDriverWait(driver, 3).until(EC.presence_of_element_located(\n",
    "            (By.XPATH, '//*[@id=\"pbEntrar\"]'))).click()\n",
    "\n",
    "        driver.switch_to.default_content()\n",
    "    except:\n",
    "        pass\n"
   ]
  },
  {
   "cell_type": "markdown",
   "id": "99860239",
   "metadata": {},
   "source": [
    "<br>\n",
    "\n",
    "## Go Pages\n"
   ]
  },
  {
   "cell_type": "code",
   "execution_count": null,
   "id": "a17efd81-ba45-4544-9a36-9bc65b426dd6",
   "metadata": {},
   "outputs": [],
   "source": [
    "def check_site():\n",
    "    # ddd\n",
    "    if driver.title != 'Portal de Atendimento':\n",
    "        url = 'https://e.ambiente.sp.gov.br/atendimento/'\n",
    "        driver.get(url)"
   ]
  },
  {
   "cell_type": "code",
   "execution_count": null,
   "id": "96876b8c",
   "metadata": {},
   "outputs": [],
   "source": [
    "def open_sidebar():\n",
    "    check_site()\n",
    "\n",
    "    # Retorna para a janela principal (fora do iframe)\n",
    "    driver.switch_to.default_content()\n",
    "\n",
    "    collapsed = driver.find_element(\n",
    "        By.XPATH, '//aside[contains(@class, \"abas\")]').get_attribute('class')\n",
    "    if collapsed == 'abas collapsed':\n",
    "        driver.find_element(\n",
    "            By.XPATH, '//*[@title=\"Exibir/Esconder menu\"]').click()\n",
    "    return 0\n"
   ]
  },
  {
   "cell_type": "code",
   "execution_count": null,
   "id": "8b624b1e",
   "metadata": {},
   "outputs": [],
   "source": [
    "def go_meusprocessos():\n",
    "    # Open Sidebar\n",
    "    open_sidebar()\n",
    "\n",
    "    # Retorna para a janela principal (fora do iframe)\n",
    "    driver.switch_to.default_content()\n",
    "\n",
    "    # Clica em \"Meus Processos\"\n",
    "    WebDriverWait(driver, 3).until(EC.presence_of_element_located(\n",
    "        (By.XPATH, '//*[@title=\"Meus Processos\"]'))).click()\n",
    "\n",
    "    # Muda o foco para o iframe\n",
    "    iframe = WebDriverWait(driver, 3).until(\n",
    "        EC.presence_of_element_located((By.XPATH, '//*[@id=\"iFrameForm\"]')))\n",
    "    driver.switch_to.frame(iframe)\n"
   ]
  },
  {
   "cell_type": "code",
   "execution_count": null,
   "id": "096eccf6",
   "metadata": {},
   "outputs": [],
   "source": [
    "def go_aberturaprocessos():\n",
    "    # Open Sidebar\n",
    "    open_sidebar()\n",
    "\n",
    "    # Retorna para a janela principal (fora do iframe)\n",
    "    driver.switch_to.default_content()\n",
    "\n",
    "    # Clica em \"Processos Liberados\"\n",
    "    WebDriverWait(driver, 3).until(EC.presence_of_element_located(\n",
    "        (By.XPATH, '//*[@title=\"Abertura de Processos\"]'))).click()\n",
    "\n",
    "    # Muda o foco para o iframe\n",
    "    iframe = WebDriverWait(driver, 3).until(\n",
    "        EC.presence_of_element_located((By.XPATH, '//*[@id=\"iFrameForm\"]')))\n",
    "    driver.switch_to.frame(iframe)\n"
   ]
  },
  {
   "cell_type": "code",
   "execution_count": null,
   "id": "a5d7ee3f",
   "metadata": {},
   "outputs": [],
   "source": [
    "def go_processosliberados():\n",
    "    # Open Sidebar\n",
    "    open_sidebar()\n",
    "\n",
    "    # Retorna para a janela principal (fora do iframe)\n",
    "    driver.switch_to.default_content()\n",
    "\n",
    "    # Clica em \"Processos Liberados\"\n",
    "    WebDriverWait(driver, 3).until(EC.presence_of_element_located(\n",
    "        (By.XPATH, '//*[@title=\"Processos liberados\"]'))).click()\n",
    "\n",
    "    # Muda o foco para o iframe\n",
    "    iframe = WebDriverWait(driver, 3).until(\n",
    "        EC.presence_of_element_located((By.XPATH, '//*[@id=\"iFrameForm\"]')))\n",
    "    driver.switch_to.frame(iframe)\n",
    "    "
   ]
  },
  {
   "cell_type": "code",
   "execution_count": null,
   "id": "81502859",
   "metadata": {},
   "outputs": [],
   "source": [
    "def go_dadosusuario():\n",
    "    # Open Sidebar\n",
    "    open_sidebar()\n",
    "\n",
    "    # Retorna para a janela principal (fora do iframe)\n",
    "    driver.switch_to.default_content()\n",
    "\n",
    "    # Clica em \"Dados do Usuário\"\n",
    "    WebDriverWait(driver, 3).until(EC.presence_of_element_located(\n",
    "        (By.XPATH, '//*[@title=\"Dados do Usuário\"]'))).click()\n",
    "\n",
    "    # Muda o foco para o iframe\n",
    "    iframe = WebDriverWait(driver, 3).until(\n",
    "        EC.presence_of_element_located((By.XPATH, '//*[@id=\"iFrameForm\"]')))\n",
    "    driver.switch_to.frame(iframe)\n"
   ]
  },
  {
   "cell_type": "markdown",
   "id": "cd78b74b",
   "metadata": {},
   "source": [
    "<br>\n",
    "\n",
    "## Meus Processos\n"
   ]
  },
  {
   "cell_type": "code",
   "execution_count": null,
   "id": "33f6d195",
   "metadata": {},
   "outputs": [],
   "source": [
    "def get_meusprocessos():\n",
    "    # Open Sidebar\n",
    "    open_sidebar()\n",
    "\n",
    "    # Go Page\n",
    "    go_aberturaprocessos()\n",
    "    time.sleep(3)\n",
    "    go_meusprocessos()\n",
    "\n",
    "    # Pega Table\n",
    "    table = WebDriverWait(driver, 3).until(\n",
    "        EC.presence_of_element_located((By.XPATH, '//*[@id=\"meusProcessos\"]')))\n",
    "\n",
    "    # Linhas\n",
    "    WebDriverWait(table, 3).until(\n",
    "        EC.presence_of_element_located((By.XPATH, './/tr')))\n",
    "    rows = table.find_elements(By.XPATH, './/tr')\n",
    "\n",
    "    # Loop\n",
    "    list_head = []\n",
    "    list_row = []\n",
    "    list_processo = []\n",
    "    for row in rows[:-2]:\n",
    "        for cel in row.find_elements(By.XPATH, './/th'):\n",
    "            list_head.append(cel.text)\n",
    "        for cel in row.find_elements(By.XPATH, './/td'):\n",
    "            list_row.append(cel.text)\n",
    "            if cel.text == 'create_new_folder':\n",
    "                list_processo.append(cel)\n",
    "\n",
    "    # Pega Linhas de Interesse\n",
    "    n_processos = len(rows[:-2])-1\n",
    "    list_row = [x for x in list_row if x != '']\n",
    "    list_row = np.array(list_row).reshape(n_processos, 5)\n",
    "\n",
    "    # Dataframe\n",
    "    df = pd.DataFrame(\n",
    "        list_row,\n",
    "        columns=list_head\n",
    "    )\n",
    "    df.drop(['Det.'], inplace=True, axis=1)\n",
    "    return df\n"
   ]
  },
  {
   "cell_type": "markdown",
   "id": "b9c93aaa",
   "metadata": {},
   "source": [
    "<br>\n",
    "\n",
    "## Processos Liberados\n"
   ]
  },
  {
   "cell_type": "code",
   "execution_count": null,
   "id": "ed2f76e6",
   "metadata": {},
   "outputs": [],
   "source": [
    "def get_processosliberados():\n",
    "    # Open Sidebar\n",
    "    open_sidebar()\n",
    "\n",
    "    # Go Page\n",
    "    go_aberturaprocessos()\n",
    "    time.sleep(1)\n",
    "    go_processosliberados()\n",
    "\n",
    "    # Lista Processos\n",
    "    tag = '//*[@class=\"sds-collapse-list sds-card liberacao-collapse-container\"]//*[@class=\"sds-collapse-list__item\"]'\n",
    "    WebDriverWait(driver, 3).until(\n",
    "        EC.presence_of_element_located((By.XPATH, tag)))\n",
    "    list_process = driver.find_elements(By.XPATH, tag)\n",
    "\n",
    "    list_process_text = []\n",
    "    for process in list_process:\n",
    "        list_process_text.append(process.text.split('\\n'))\n",
    "\n",
    "    # Create Dataframe\n",
    "    df = pd.DataFrame(\n",
    "        list_process_text,\n",
    "        columns=['Nome', '-', 'Data de Liberação', '-',\n",
    "                 'Acesso termina em', '-', 'Situação', '-']\n",
    "    )\n",
    "    # print(df.head())\n",
    "\n",
    "    # Edit Dataframe\n",
    "    df[['Processo', 'Interessado', 'Empresa']\n",
    "       ] = df['Nome'].str.split(' - ', n=2, expand=True)\n",
    "\n",
    "    df = df[['Processo', 'Interessado', 'Empresa',\n",
    "             'Data de Liberação', 'Acesso termina em', 'Situação']].copy()\n",
    "\n",
    "    df['Interessado'] = df['Interessado'].replace(\n",
    "        {'Interessado: ': ''}, regex=True)\n",
    "\n",
    "    # Result\n",
    "    return df\n"
   ]
  },
  {
   "cell_type": "markdown",
   "id": "02a87cf2",
   "metadata": {},
   "source": [
    "<br>\n",
    "\n",
    "## Select Process"
   ]
  },
  {
   "cell_type": "code",
   "execution_count": null,
   "id": "89c41144",
   "metadata": {},
   "outputs": [],
   "source": [
    "def select_processo(df_processosliberados):\n",
    "    # Input\n",
    "    valores = ''.join('{}'.format(list(df_processosliberados.index)))\n",
    "    processo = int(input(\n",
    "        f'Insira o número do índice do processo. O número deve estar entre {valores}: '))\n",
    "\n",
    "    # Check se o processo está no índice\n",
    "    while not(processo in list(df_processosliberados.index)):\n",
    "        print('Número não consta no índice. Por favor, insira um número válido!')\n",
    "        processo = int(input(\n",
    "            f'Insira o número do índice do processo. O número deve estar entre {valores}: '))\n",
    "\n",
    "    # Check situação\n",
    "    processo_situacao = df_processosliberados.loc[processo, 'Situação']\n",
    "    while processo_situacao != 'Acesso ativo':\n",
    "        processo = int(input(\n",
    "            f'Insira o número do índice do processo. O número deve estar entre {valores}: '))\n",
    "\n",
    "    # Result\n",
    "    processo_text = df_processosliberados.loc[processo, 'Processo'].replace(\n",
    "        '.', '_').replace('/', '-')\n",
    "    print(\n",
    "        f'O processo escolhido foi \"{processo_text}\" e está com \"{processo_situacao}\"')\n",
    "    return processo, processo_text\n"
   ]
  },
  {
   "cell_type": "markdown",
   "id": "10a650b7",
   "metadata": {},
   "source": [
    "<br>\n",
    "\n",
    "## get_file_list\n"
   ]
  },
  {
   "cell_type": "code",
   "execution_count": null,
   "id": "c0f07bab",
   "metadata": {},
   "outputs": [],
   "source": [
    "def get_file_list(processo):\n",
    "    \"\"\"\n",
    "    url_1 é a primeira url... que, ao abrir, já muda...\n",
    "    \"\"\"\n",
    "    # Open Sidebar\n",
    "    open_sidebar()\n",
    "\n",
    "    # Go Page\n",
    "    go_aberturaprocessos()\n",
    "    time.sleep(1)\n",
    "    go_processosliberados()\n",
    "\n",
    "    # Lista Processos\n",
    "    tag = '//*[@class=\"sds-collapse-list sds-card liberacao-collapse-container\"]//*[@class=\"sds-collapse-list__item\"]'\n",
    "    WebDriverWait(driver, 3).until(\n",
    "        EC.presence_of_element_located((By.XPATH, tag)))\n",
    "    list_process = driver.find_elements(By.XPATH, tag)\n",
    "\n",
    "    # Minimiza todos os processos\n",
    "    for process in list_process:\n",
    "        try:\n",
    "            tag = './/button[@class=\"sds-btn sds-btn--icon button-rotate\"]'\n",
    "            WebDriverWait(process, 1).until(\n",
    "                EC.presence_of_element_located((By.XPATH, tag))).click()\n",
    "            print('a')\n",
    "        except:\n",
    "            pass\n",
    "\n",
    "    # Seleciona Processo\n",
    "    WebDriverWait(list_process[processo], 1).until(EC.presence_of_element_located(\n",
    "        (By.XPATH, './/button[@class=\"sds-btn sds-btn--icon\"]'))).click()\n",
    "\n",
    "    # Lista de todos os arquivos do processo\n",
    "    tag = '//*[@id=\"secao-documentos{}\"]//*[@class=\"sds-data-list\"]//*[@class=\"sds-data-list__item\"]'.format(\n",
    "        processo)\n",
    "    WebDriverWait(list_process[processo], 3).until(\n",
    "        EC.presence_of_element_located((By.XPATH, tag)))\n",
    "    files = driver.find_elements(By.XPATH, tag)\n",
    "\n",
    "    # Loop\n",
    "    list_name = []\n",
    "    list_url = []\n",
    "    for file in files:\n",
    "        name = file.find_element(By.XPATH, './/span').text\n",
    "        url = file.find_element(\n",
    "            By.XPATH, './/*[@class=\"sds-link\"]').get_attribute('href')\n",
    "        list_name.append(name)\n",
    "        list_url.append(url)\n",
    "\n",
    "    # Dataframe\n",
    "    df = pd.DataFrame(\n",
    "        list(zip(list_name, list_url)),\n",
    "        columns=['nome', 'url_1']\n",
    "    )\n",
    "    df['n_doc'] = df.index+1\n",
    "    return df[['n_doc', 'nome', 'url_1']]\n"
   ]
  },
  {
   "cell_type": "markdown",
   "id": "40d674c0",
   "metadata": {},
   "source": [
    "<br>\n",
    "\n",
    "## get url redirects\n"
   ]
  },
  {
   "cell_type": "code",
   "execution_count": null,
   "id": "3e4453a5",
   "metadata": {},
   "outputs": [],
   "source": [
    "def get_url_redirects(url):\n",
    "    \"\"\"\n",
    "    url_2 é a url que tem uma barra em cima!\n",
    "    url_3 é o link pro PDF... e se ZIP, dá msg que não é possível dowload. Parâmetros Importantes!!!!   \n",
    "    \"\"\"\n",
    "    # Get URL\n",
    "    driver.get(url)\n",
    "    time.sleep(2)\n",
    "\n",
    "    while driver.execute_script('return document.readyState') != 'complete':\n",
    "        time.sleep(2)\n",
    "\n",
    "    # URL 2\n",
    "    url1 = driver.current_url\n",
    "\n",
    "    # URL 3\n",
    "    driver.switch_to.default_content()\n",
    "    iframe_1 = WebDriverWait(driver, 10).until(EC.presence_of_element_located(\n",
    "        (By.XPATH, '//iframe[@id=\"content\"]')))\n",
    "    url2 = iframe_1.get_attribute('src')\n",
    "    driver.switch_to.frame(iframe_1)\n",
    "\n",
    "    # URL Download\n",
    "    try:\n",
    "        # Se for PDF\n",
    "        iframe_2 = WebDriverWait(driver, 2).until(EC.presence_of_element_located(\n",
    "            (By.XPATH, '//*[@class=\"pdjJsFrameViewer\"]')))\n",
    "        url_temp = iframe_2.get_attribute('src')\n",
    "        url_download = urllib.parse.unquote(\n",
    "            url_temp, encoding='utf-8', errors='replace')\n",
    "        url_download = url_download.replace(\n",
    "            'go-docs-file-viewer/pdfjs/web/viewer.html?file=/', '')\n",
    "        pdf = True\n",
    "    except:\n",
    "        # Não é PDF\n",
    "        url_download = None\n",
    "        pdf = False\n",
    "\n",
    "    # Results\n",
    "    return list([url1, url2, url_download, pdf])\n"
   ]
  },
  {
   "cell_type": "markdown",
   "id": "b4debd9f",
   "metadata": {},
   "source": [
    "<br>\n",
    "\n",
    "## Merge PDFs\n"
   ]
  },
  {
   "cell_type": "code",
   "execution_count": null,
   "id": "376b4289",
   "metadata": {},
   "outputs": [],
   "source": [
    "def merge_files(processo_path):\n",
    "    # Filename\n",
    "    a = processo_path / f'{\"Processo Unificado\"}.pdf'\n",
    "    \n",
    "    # List Files\n",
    "    list_files = list(processo_path.glob('*.pdf'))\n",
    "    list_files = set(list_files)\n",
    "    list_files.discard(a)\n",
    "\n",
    "    # Lista documentos da Pasta\n",
    "    list_dict = []\n",
    "    for file in list_files:\n",
    "        # print(file.name)\n",
    "        n = file.name.split(' - ', 1)[0]\n",
    "        list_dict.append({'id': n, 'nomearquivo': file})\n",
    "\n",
    "    # Dataframe: files\n",
    "    df = pd.DataFrame(list_dict)\n",
    "    df['id'] = pd.to_numeric(df['id'])\n",
    "    df.sort_values(by=['id'], inplace=True)\n",
    "    df.reset_index(inplace=True)\n",
    "    df.drop(['index'], inplace=True, axis=1)\n",
    "\n",
    "    # Call the PdfFileMerger\n",
    "    mergedObject = PdfFileMerger()\n",
    "    for k, v in df.iterrows():\n",
    "        bookmark = v['nomearquivo'].name\n",
    "        mergedObject.append(\n",
    "            PdfFileReader(\n",
    "                processo_path / f'{v[\"nomearquivo\"]}', 'rb'),\n",
    "            bookmark\n",
    "        )\n",
    "\n",
    "    # Write all the files into a file which is named as shown below    \n",
    "    mergedObject.write(str(a))\n",
    "    return f'Doc Ok!'\n"
   ]
  },
  {
   "cell_type": "markdown",
   "id": "218d919c-9859-4600-88b5-b17cda91d2b1",
   "metadata": {},
   "source": [
    "<br>\n",
    "\n",
    "## Download\n"
   ]
  },
  {
   "cell_type": "code",
   "execution_count": null,
   "id": "8a522eaf-6835-47d5-a696-2975ddcef6fe",
   "metadata": {},
   "outputs": [],
   "source": [
    "def is_download_finished(temp_folder):\n",
    "    \"\"\"\n",
    "    https://stackoverflow.com/questions/34338897/python-selenium-find-out-when-a-download-has-completed\n",
    "    \"\"\"\n",
    "    firefox_temp_file = sorted(Path(temp_folder).glob('*.part'))\n",
    "    chrome_temp_file = sorted(Path(temp_folder).glob('*.crdownload'))\n",
    "    downloaded_files = sorted(Path(temp_folder).glob('*.*'))\n",
    "    if (len(firefox_temp_file) == 0) and \\\n",
    "       (len(chrome_temp_file) == 0) and \\\n",
    "       (len(downloaded_files) == 1):\n",
    "        return True\n",
    "    else:\n",
    "        return False\n"
   ]
  },
  {
   "cell_type": "code",
   "execution_count": null,
   "id": "fefcc8d7-75e2-4570-b655-d7bab40fe9be",
   "metadata": {},
   "outputs": [],
   "source": [
    "def download_selenium(path_search, path_move, out_filename):\n",
    "    # ddd\n",
    "    list_zipfiles = list(path_search.glob('*.*'))\n",
    "    n_files = 0\n",
    "    tentativa = 0\n",
    "    while tentativa < 10 and n_files != 1:\n",
    "        n_files = len(list_zipfiles)\n",
    "        time.sleep(2)\n",
    "        tentativa += 1\n",
    "\n",
    "    test_download = is_download_finished(path_search)\n",
    "    while not test_download:\n",
    "        time.sleep(2)\n",
    "        print(1)\n",
    "        test_download = is_download_finished(path_search)\n",
    "\n",
    "    if len(list_zipfiles) == 0:\n",
    "        time.sleep(1)\n",
    "\n",
    "    if len(list_zipfiles) == 1:\n",
    "        # Se tem o arquivo\n",
    "        # TODO: Add *.part ou *.crdownload\n",
    "\n",
    "        teste = list_zipfiles[0].is_file()\n",
    "        while teste:\n",
    "            shutil.move(\n",
    "                max([f for f in list_zipfiles], key=os.path.getctime), path_move / f'{out_filename}')\n",
    "            time.sleep(2)\n",
    "\n",
    "            teste = list_zipfiles[0].is_file()\n",
    "        print(f'> Arquivo renomeado para \"{out_filename}\"')\n",
    "\n",
    "    if len(list_zipfiles) > 1:\n",
    "        time.sleep(1)\n",
    "        print(f'Tem mais de arquivo no diretório \"{path_search}\"\\nErro!!!!')\n",
    "        raise Exception('Ajustar função \"rename file\"')\n"
   ]
  },
  {
   "cell_type": "markdown",
   "id": "04507755",
   "metadata": {},
   "source": [
    "<br>\n",
    "\n",
    "# Rull All\n"
   ]
  },
  {
   "cell_type": "markdown",
   "id": "4b054bed-4c3d-4358-b63f-915e1a6c1257",
   "metadata": {},
   "source": [
    "<br>\n",
    "\n",
    "## Parte 1"
   ]
  },
  {
   "cell_type": "code",
   "execution_count": null,
   "id": "af70de2d-8e87-464f-a07c-62643e258ee7",
   "metadata": {},
   "outputs": [],
   "source": [
    "# test2 = is_download_finished(temp_path)\n",
    "# print(test2)\n",
    "# tentativa = 0\n",
    "# while not test2 and tentativa < 10:\n",
    "#     test2 = is_download_finished(temp_path)\n",
    "#     print(test2)\n",
    "#     time.sleep(2)\n",
    "#     tentativa += 1\n"
   ]
  },
  {
   "cell_type": "code",
   "execution_count": null,
   "id": "671d1788-0d98-4096-b197-3a27fc8d2859",
   "metadata": {},
   "outputs": [],
   "source": [
    "# Cria Driver\n",
    "create_driver(temp_path)\n"
   ]
  },
  {
   "cell_type": "code",
   "execution_count": null,
   "id": "6dd8da56",
   "metadata": {},
   "outputs": [],
   "source": [
    "# Login\n",
    "get_login(CPF, PASSWORD)\n"
   ]
  },
  {
   "cell_type": "code",
   "execution_count": null,
   "id": "f7b577a7",
   "metadata": {},
   "outputs": [],
   "source": [
    "fecha_popups()\n"
   ]
  },
  {
   "cell_type": "code",
   "execution_count": null,
   "id": "73cf4adf",
   "metadata": {},
   "outputs": [],
   "source": [
    "# Meus Processos\n",
    "#df_meusprocessos = get_meusprocessos()\n",
    "#df_meusprocessos.head()\n"
   ]
  },
  {
   "cell_type": "code",
   "execution_count": null,
   "id": "f9295c53",
   "metadata": {},
   "outputs": [],
   "source": [
    "# Processos Liberados\n",
    "df_processosliberados = get_processosliberados()\n",
    "df_processosliberados.head()\n"
   ]
  },
  {
   "cell_type": "code",
   "execution_count": null,
   "id": "7deb9d96",
   "metadata": {},
   "outputs": [],
   "source": [
    "# Select Process\n",
    "processo, processo_text = select_processo(df_processosliberados)\n"
   ]
  },
  {
   "cell_type": "code",
   "execution_count": null,
   "id": "0bb5568f",
   "metadata": {},
   "outputs": [],
   "source": [
    "# Get File List\n",
    "df = get_file_list(processo)\n",
    "df.head()\n"
   ]
  },
  {
   "cell_type": "code",
   "execution_count": null,
   "id": "f9cb42bf",
   "metadata": {},
   "outputs": [],
   "source": [
    "# Adjust Table: Função 1\n",
    "df[['url_2', 'url_3', 'url_download', 'pdf']] = df.apply(\n",
    "    lambda x: get_url_redirects(x['url_1']), axis=1, result_type='expand')\n"
   ]
  },
  {
   "cell_type": "code",
   "execution_count": null,
   "id": "7018bf70",
   "metadata": {},
   "outputs": [],
   "source": [
    "# Create Directory\n",
    "processo_path = data_path / processo_text\n",
    "processo_path.mkdir(exist_ok=True)\n",
    "\n",
    "# Escreve Tabela\n",
    "df.to_csv(\n",
    "    processo_path / 'tab_arquivos.csv',\n",
    "    index=False\n",
    ")\n"
   ]
  },
  {
   "cell_type": "markdown",
   "id": "70e9ae80-12c3-448e-bdfb-221c04b79269",
   "metadata": {},
   "source": [
    "<br>\n",
    "\n",
    "## Parte 2"
   ]
  },
  {
   "cell_type": "code",
   "execution_count": null,
   "id": "833e6d85",
   "metadata": {},
   "outputs": [],
   "source": [
    "# Create Directory\n",
    "processo_path = data_path / processo_text\n",
    "processo_path.mkdir(exist_ok=True)\n",
    "\n",
    "# Lê Tabela\n",
    "df = pd.read_csv(processo_path / 'tab_arquivos.csv')\n",
    "\n",
    "# Filter\n",
    "mask = (df['n_doc'] >= 30) & (df['n_doc'] <= 20000)\n",
    "df = df[mask].copy()\n",
    "\n",
    "# Results\n",
    "df.head()\n"
   ]
  },
  {
   "cell_type": "code",
   "execution_count": null,
   "id": "d0fd225a",
   "metadata": {},
   "outputs": [],
   "source": [
    "# https://stackoverflow.com/questions/29563335/how-do-i-load-session-and-cookies-from-selenium-browser-to-requests-library-in-p\n",
    "# Get cookies\n",
    "cookies = driver.get_cookies()\n",
    "\n",
    "# Create session from cookies\n",
    "s = requests.Session()\n",
    "for cookie in cookies:\n",
    "    s.cookies.set(cookie['name'], cookie['value'])\n"
   ]
  },
  {
   "cell_type": "code",
   "execution_count": null,
   "id": "c02b09d0-c9f5-4a28-9342-8c27183fbc5c",
   "metadata": {},
   "outputs": [],
   "source": [
    "# Loop thought table\n",
    "for k, v in df.iterrows():\n",
    "    # Parametros\n",
    "    n_doc = v['n_doc']\n",
    "    url_download = v['url_download']\n",
    "    url_2 = v['url_2']\n",
    "    nome = v['nome']\n",
    "    pdf = v['pdf']\n",
    "\n",
    "    # Se for PDF\n",
    "    if pdf:\n",
    "        print(f'Download do arquivo {n_doc} - {nome}\\n{url_download}\\n')\n",
    "\n",
    "        # ddddddd\n",
    "        r = s.get(url_download, stream=True)\n",
    "        try:\n",
    "            text = r.content.decode('utf-8')\n",
    "            print(text)\n",
    "        except:\n",
    "            text = 'É PDF!'\n",
    "\n",
    "        # dddd\n",
    "        if text != 'Não foi possível recuperar a liberação externa para este documento':\n",
    "            # Salva Arquivo\n",
    "            time.sleep(5)\n",
    "            \n",
    "            # Adjust Nome\n",
    "            nome = nome.replace('.pdf ', ' ')\n",
    "            nome = re.sub('[\\\\/:\"*?<>|]+', '', nome)\n",
    "            \n",
    "            filename = processo_path / f'{n_doc} - {nome}.pdf'\n",
    "            if r.status_code == 200:\n",
    "                with open(filename, 'wb') as f:\n",
    "                    for chunk in r:\n",
    "                        f.write(chunk)\n",
    "\n",
    "        elif text == 'Não foi possível recuperar a liberação externa para este documento':\n",
    "            print('Arrumar esta merda!')\n",
    "\n",
    "    elif not pdf:\n",
    "        print(f'Download do arquivo {n_doc} - {nome}\\n{url_2}\\n')\n",
    "\n",
    "        # sss\n",
    "        driver.get(url_2)\n",
    "        driver.implicitly_wait(20)\n",
    "\n",
    "        # Retorna para a janela principal (fora do iframe)\n",
    "        driver.switch_to.default_content()\n",
    "\n",
    "        # Muda o foco para o iframe\n",
    "        iframe = WebDriverWait(driver, 3).until(\n",
    "            EC.presence_of_element_located((By.XPATH, '//*[@id=\"content\"]')))\n",
    "        driver.switch_to.frame(iframe)\n",
    "        time.sleep(1)\n",
    "\n",
    "        # Clica em Download\n",
    "        WebDriverWait(driver, 20).until(EC.presence_of_element_located(\n",
    "            (By.XPATH, '//*[@id=\"btnDownload\"]'))).click()\n",
    "        time.sleep(20)\n",
    "\n",
    "        # Move\n",
    "        nome = nome.replace('.zip ', ' ').replace('.ZIP ', ' ')\n",
    "        download_selenium(temp_path, processo_path, f'{n_doc} - {nome}.zip')\n"
   ]
  },
  {
   "cell_type": "markdown",
   "id": "f35fbe72",
   "metadata": {},
   "source": [
    "<br>\n",
    "\n",
    "## Parte 3\n"
   ]
  },
  {
   "cell_type": "code",
   "execution_count": null,
   "id": "95a83154",
   "metadata": {},
   "outputs": [],
   "source": [
    "# Merge PDF\n",
    "merge_files(processo_path)\n"
   ]
  },
  {
   "cell_type": "code",
   "execution_count": null,
   "id": "5ee8d6cc-7f3f-4b71-8de7-0240ed9fe6c9",
   "metadata": {},
   "outputs": [],
   "source": [
    "# Fecha Driver\n",
    "driver.quit()"
   ]
  },
  {
   "cell_type": "code",
   "execution_count": null,
   "id": "c8ebb9e0-55bd-434f-8326-b731e28e9efc",
   "metadata": {},
   "outputs": [],
   "source": [
    "# \n",
    "temp_path.rmdir()\n"
   ]
  },
  {
   "cell_type": "code",
   "execution_count": null,
   "id": "00ca3105-7e9e-4787-9a9b-1b7c07ba3eec",
   "metadata": {},
   "outputs": [],
   "source": [
    "#shutil.rmtree(temp_path)"
   ]
  },
  {
   "cell_type": "code",
   "execution_count": null,
   "id": "65ffe0c7-1430-4e98-a025-7aeac5af2788",
   "metadata": {},
   "outputs": [],
   "source": []
  }
 ],
 "metadata": {
  "kernelspec": {
   "display_name": "Python 3.9.13 ('pablocarreira-py39')",
   "language": "python",
   "name": "python3"
  },
  "language_info": {
   "codemirror_mode": {
    "name": "ipython",
    "version": 3
   },
   "file_extension": ".py",
   "mimetype": "text/x-python",
   "name": "python",
   "nbconvert_exporter": "python",
   "pygments_lexer": "ipython3",
   "version": "3.9.13"
  },
  "toc-autonumbering": true,
  "vscode": {
   "interpreter": {
    "hash": "397a8db9a99587ebc9659e575e97c3dbc03b7cdbd9bc181d706cc19eab1087ed"
   }
  }
 },
 "nbformat": 4,
 "nbformat_minor": 5
}
