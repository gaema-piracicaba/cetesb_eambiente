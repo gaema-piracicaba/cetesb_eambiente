{
 "cells": [
  {
   "cell_type": "markdown",
   "id": "e0918cd5",
   "metadata": {},
   "source": [
    "<br>\n",
    "\n",
    "# Introdução\n"
   ]
  },
  {
   "cell_type": "code",
   "execution_count": null,
   "id": "cb021e72-d112-48ac-916e-c52256253c9c",
   "metadata": {},
   "outputs": [],
   "source": [
    "#!pip3 install PyPDF2\n"
   ]
  },
  {
   "cell_type": "code",
   "execution_count": null,
   "id": "04bca602",
   "metadata": {},
   "outputs": [],
   "source": [
    "import os\n",
    "import time\n",
    "import requests\n",
    "import numpy as np\n",
    "import pandas as pd\n",
    "from PyPDF2 import PdfFileMerger, PdfFileReader\n"
   ]
  },
  {
   "cell_type": "code",
   "execution_count": null,
   "id": "f9e953e3",
   "metadata": {},
   "outputs": [],
   "source": [
    "from selenium import webdriver\n",
    "from selenium.webdriver.common.by import By\n",
    "from selenium.webdriver.support.ui import WebDriverWait\n",
    "from selenium.webdriver.support import expected_conditions as EC\n",
    "from selenium.webdriver.firefox.service import Service\n",
    "from selenium.webdriver.firefox.options import Options as FirefoxOptions\n",
    "from webdriver_manager.firefox import GeckoDriverManager\n"
   ]
  },
  {
   "cell_type": "code",
   "execution_count": null,
   "id": "29d62924-f3a1-4ebe-9975-06de2638f1f2",
   "metadata": {},
   "outputs": [],
   "source": [
    "from paths import *\n"
   ]
  },
  {
   "cell_type": "code",
   "execution_count": null,
   "id": "16f55f31-d267-4c89-aae5-b7c9b6025b0c",
   "metadata": {},
   "outputs": [],
   "source": [
    "from dotenv import load_dotenv, find_dotenv, dotenv_values\n",
    "\n",
    "# Credenciais\n",
    "config = dotenv_values(find_dotenv(usecwd=True))\n",
    "\n",
    "# Variaveis do Driver\n",
    "os.environ['GH_TOKEN'] = config['GH_TOKEN']\n",
    "CPF = config['CPF']\n",
    "PASSWORD = config['PASSWORD']\n"
   ]
  },
  {
   "cell_type": "markdown",
   "id": "eacaff90",
   "metadata": {},
   "source": [
    "<br>\n",
    "\n",
    "## Create Driver\n"
   ]
  },
  {
   "cell_type": "code",
   "execution_count": null,
   "id": "fa076ba9-29f1-4637-b424-e78dc5ccf743",
   "metadata": {},
   "outputs": [],
   "source": [
    "def create_driver():\n",
    "    # Parameters\n",
    "    DRIVER_PATH = driver_path\n",
    "    DRIVER_PATH = None\n",
    "    HEADLESS = False\n",
    "    #os.environ['WDM_SSL_VERIFY'] = '0'\n",
    "\n",
    "    # Cria Driver\n",
    "    global driver\n",
    "    firefox_options = FirefoxOptions()\n",
    "    firefox_options.headless = HEADLESS\n",
    "    driver = webdriver.Firefox(\n",
    "        service=Service(\n",
    "            executable_path=GeckoDriverManager(path=DRIVER_PATH).install(),\n",
    "            log_path=log_path / 'geckodriver.log',\n",
    "        ),\n",
    "        options=firefox_options,\n",
    "    )\n",
    "\n",
    "    # Add-ons Xpath\n",
    "    xpath_path = adds_path / 'xpath.xpi'\n",
    "    xpath_path = xpath_path.absolute().resolve()\n",
    "    if not xpath_path.is_file():\n",
    "        r = requests.get(\n",
    "            'https://addons.mozilla.org/firefox/downloads/file/3588871/xpath_finder-1.0.2-fx.xpi')\n",
    "        with open(xpath_path, 'wb') as f:\n",
    "            f.write(r.content)\n",
    "    driver.install_addon(str(xpath_path), temporary=True)\n"
   ]
  },
  {
   "cell_type": "code",
   "execution_count": null,
   "id": "671d1788-0d98-4096-b197-3a27fc8d2859",
   "metadata": {},
   "outputs": [],
   "source": [
    "# Cria Driver\n",
    "create_driver()\n"
   ]
  },
  {
   "cell_type": "markdown",
   "id": "0a83b098",
   "metadata": {},
   "source": [
    "<br>\n",
    "\n",
    "## Faz Login\n"
   ]
  },
  {
   "cell_type": "code",
   "execution_count": null,
   "id": "bf47eb5d",
   "metadata": {},
   "outputs": [],
   "source": [
    "def fecha_popups():\n",
    "    # Retorna para a janela principal (fora do iframe)\n",
    "    driver.switch_to.default_content()\n",
    "\n",
    "    # Hide Popup Tour\n",
    "    try:\n",
    "        tour = driver.find_element(\n",
    "            By.XPATH, '//*[@class=\"hopscotch-bubble animated tour-portalTour\"]//*[@class=\"hopscotch-actions\"]//..')\n",
    "        tour = tour.find_element(\n",
    "            By.XPATH, './/*[@class=\"hopscotch-bubble-close hopscotch-close\"]')\n",
    "        tour.click()\n",
    "    except:\n",
    "        pass\n"
   ]
  },
  {
   "cell_type": "code",
   "execution_count": null,
   "id": "56f1dde7",
   "metadata": {},
   "outputs": [],
   "source": [
    "def fecha_popups2():\n",
    "    # Retorna para a janela principal (fora do iframe)\n",
    "    driver.switch_to.default_content()\n",
    "\n",
    "    # Hide Popup Tour\n",
    "    try:\n",
    "        WebDriverWait(driver, 3).until(EC.presence_of_element_located(\n",
    "            (By.XPATH, '//*[@class=\"hopscotch-bubble animated tour-portalTour\"]')))\n",
    "        element = driver.find_elements(\n",
    "            By.XPATH, '//*[@class=\"hopscotch-bubble animated tour-portalTour\"]')[1]\n",
    "        driver.execute_script(\n",
    "            \"arguments[0].style.visibility='hidden'\", element)\n",
    "    except:\n",
    "        pass\n"
   ]
  },
  {
   "cell_type": "code",
   "execution_count": null,
   "id": "26607c6d",
   "metadata": {},
   "outputs": [],
   "source": [
    "def get_login(cpf, password):\n",
    "    # Get Url\n",
    "    url = 'https://e.ambiente.sp.gov.br/atendimento/'\n",
    "    driver.get(url)\n",
    "\n",
    "    try:\n",
    "        # Efetuar Login\n",
    "        WebDriverWait(driver, 3).until(EC.presence_of_element_located(\n",
    "            (By.XPATH, '//*[@id=\"info-usuario\"]'))).click()\n",
    "\n",
    "        # Pega o XPath do iframe e atribui a uma variável\n",
    "        iframe = WebDriverWait(driver, 3).until(\n",
    "            EC.presence_of_element_located((By.XPATH, '//*[@id=\"iFrameForm\"]')))\n",
    "\n",
    "        # Muda o foco para o iframe\n",
    "        driver.switch_to.frame(iframe)\n",
    "\n",
    "        # Entra com credenciais\n",
    "        WebDriverWait(driver, 3).until(EC.presence_of_element_located(\n",
    "            (By.XPATH, '//*[@id=\"j_username\"]'))).send_keys(cpf)\n",
    "        WebDriverWait(driver, 3).until(EC.presence_of_element_located(\n",
    "            (By.XPATH, '//*[@id=\"j_password\"]'))).send_keys(password)\n",
    "\n",
    "        # Clica em entrar\n",
    "        WebDriverWait(driver, 3).until(EC.presence_of_element_located(\n",
    "            (By.XPATH, '//*[@id=\"pbEntrar\"]'))).click()\n",
    "    except:\n",
    "        pass\n"
   ]
  },
  {
   "cell_type": "code",
   "execution_count": null,
   "id": "6dd8da56",
   "metadata": {},
   "outputs": [],
   "source": [
    "# Login\n",
    "get_login(CPF, PASSWORD)\n"
   ]
  },
  {
   "cell_type": "code",
   "execution_count": null,
   "id": "f7b577a7",
   "metadata": {},
   "outputs": [],
   "source": [
    "fecha_popups()\n"
   ]
  },
  {
   "cell_type": "markdown",
   "id": "99860239",
   "metadata": {},
   "source": [
    "<br>\n",
    "\n",
    "## Go Pages\n"
   ]
  },
  {
   "cell_type": "code",
   "execution_count": null,
   "id": "96876b8c",
   "metadata": {},
   "outputs": [],
   "source": [
    "def open_sidebar():\n",
    "    # Retorna para a janela principal (fora do iframe)\n",
    "    driver.switch_to.default_content()\n",
    "\n",
    "    collapsed = driver.find_element(\n",
    "        By.XPATH, '//aside[contains(@class, \"abas\")]').get_attribute('class')\n",
    "    if collapsed == 'abas collapsed':\n",
    "        driver.find_element(\n",
    "            By.XPATH, '//*[@title=\"Exibir/Esconder menu\"]').click()\n",
    "    return 0\n"
   ]
  },
  {
   "cell_type": "code",
   "execution_count": null,
   "id": "8b624b1e",
   "metadata": {},
   "outputs": [],
   "source": [
    "def go_meusprocessos():\n",
    "    # Open Sidebar\n",
    "    open_sidebar()\n",
    "\n",
    "    # Retorna para a janela principal (fora do iframe)\n",
    "    driver.switch_to.default_content()\n",
    "\n",
    "    # Clica em \"Meus Processos\"\n",
    "    WebDriverWait(driver, 3).until(EC.presence_of_element_located(\n",
    "        (By.XPATH, '//*[@title=\"Meus Processos\"]'))).click()\n",
    "\n",
    "    # Muda o foco para o iframe\n",
    "    iframe = WebDriverWait(driver, 3).until(\n",
    "        EC.presence_of_element_located((By.XPATH, '//*[@id=\"iFrameForm\"]')))\n",
    "    driver.switch_to.frame(iframe)\n"
   ]
  },
  {
   "cell_type": "code",
   "execution_count": null,
   "id": "096eccf6",
   "metadata": {},
   "outputs": [],
   "source": [
    "def go_aberturaprocessos():\n",
    "    # Open Sidebar\n",
    "    open_sidebar()\n",
    "\n",
    "    # Retorna para a janela principal (fora do iframe)\n",
    "    driver.switch_to.default_content()\n",
    "\n",
    "    # Clica em \"Processos Liberados\"\n",
    "    WebDriverWait(driver, 3).until(EC.presence_of_element_located(\n",
    "        (By.XPATH, '//*[@title=\"Abertura de Processos\"]'))).click()\n",
    "\n",
    "    # Muda o foco para o iframe\n",
    "    iframe = WebDriverWait(driver, 3).until(\n",
    "        EC.presence_of_element_located((By.XPATH, '//*[@id=\"iFrameForm\"]')))\n",
    "    driver.switch_to.frame(iframe)\n"
   ]
  },
  {
   "cell_type": "code",
   "execution_count": null,
   "id": "a5d7ee3f",
   "metadata": {},
   "outputs": [],
   "source": [
    "def go_processosliberados():\n",
    "    # Open Sidebar\n",
    "    open_sidebar()\n",
    "\n",
    "    # Retorna para a janela principal (fora do iframe)\n",
    "    driver.switch_to.default_content()\n",
    "\n",
    "    # Clica em \"Processos Liberados\"\n",
    "    WebDriverWait(driver, 3).until(EC.presence_of_element_located(\n",
    "        (By.XPATH, '//*[@title=\"Processos liberados\"]'))).click()\n",
    "\n",
    "    # Muda o foco para o iframe\n",
    "    iframe = WebDriverWait(driver, 3).until(\n",
    "        EC.presence_of_element_located((By.XPATH, '//*[@id=\"iFrameForm\"]')))\n",
    "    driver.switch_to.frame(iframe)\n"
   ]
  },
  {
   "cell_type": "code",
   "execution_count": null,
   "id": "81502859",
   "metadata": {},
   "outputs": [],
   "source": [
    "def go_dadosusuario():\n",
    "    # Open Sidebar\n",
    "    open_sidebar()\n",
    "\n",
    "    # Retorna para a janela principal (fora do iframe)\n",
    "    driver.switch_to.default_content()\n",
    "\n",
    "    # Clica em \"Dados do Usuário\"\n",
    "    WebDriverWait(driver, 3).until(EC.presence_of_element_located(\n",
    "        (By.XPATH, '//*[@title=\"Dados do Usuário\"]'))).click()\n",
    "\n",
    "    # Muda o foco para o iframe\n",
    "    iframe = WebDriverWait(driver, 3).until(\n",
    "        EC.presence_of_element_located((By.XPATH, '//*[@id=\"iFrameForm\"]')))\n",
    "    driver.switch_to.frame(iframe)\n"
   ]
  },
  {
   "cell_type": "code",
   "execution_count": null,
   "id": "73d8fbb0",
   "metadata": {},
   "outputs": [],
   "source": [
    "go_dadosusuario()\n"
   ]
  },
  {
   "cell_type": "markdown",
   "id": "cd78b74b",
   "metadata": {},
   "source": [
    "<br>\n",
    "\n",
    "## Meus Processos\n"
   ]
  },
  {
   "cell_type": "code",
   "execution_count": null,
   "id": "33f6d195",
   "metadata": {},
   "outputs": [],
   "source": [
    "def get_meusprocessos():\n",
    "    # Open Sidebar\n",
    "    open_sidebar()\n",
    "\n",
    "    # Go Page\n",
    "    go_aberturaprocessos()\n",
    "    time.sleep(3)\n",
    "    go_meusprocessos()\n",
    "\n",
    "    # Pega Table\n",
    "    table = WebDriverWait(driver, 3).until(\n",
    "        EC.presence_of_element_located((By.XPATH, '//*[@id=\"meusProcessos\"]')))\n",
    "\n",
    "    # Linhas\n",
    "    WebDriverWait(table, 3).until(\n",
    "        EC.presence_of_element_located((By.XPATH, './/tr')))\n",
    "    rows = table.find_elements(By.XPATH, './/tr')\n",
    "\n",
    "    # Loop\n",
    "    list_head = []\n",
    "    list_row = []\n",
    "    list_processo = []\n",
    "    for row in rows[:-2]:\n",
    "        for cel in row.find_elements(By.XPATH, './/th'):\n",
    "            list_head.append(cel.text)\n",
    "        for cel in row.find_elements(By.XPATH, './/td'):\n",
    "            list_row.append(cel.text)\n",
    "            if cel.text == 'create_new_folder':\n",
    "                list_processo.append(cel)\n",
    "\n",
    "    # Pega Linhas de Interesse\n",
    "    n_processos = len(rows[:-2])-1\n",
    "    list_row = [x for x in list_row if x != '']\n",
    "    list_row = np.array(list_row).reshape(n_processos, 5)\n",
    "\n",
    "    # Dataframe\n",
    "    df = pd.DataFrame(\n",
    "        list_row,\n",
    "        columns=list_head\n",
    "    )\n",
    "    df.drop(['Det.'], inplace=True, axis=1)\n",
    "    return df\n"
   ]
  },
  {
   "cell_type": "code",
   "execution_count": null,
   "id": "73cf4adf",
   "metadata": {},
   "outputs": [],
   "source": [
    "# Meus Processos\n",
    "df_meusprocessos = get_meusprocessos()\n",
    "df_meusprocessos.head()\n"
   ]
  },
  {
   "cell_type": "markdown",
   "id": "b9c93aaa",
   "metadata": {},
   "source": [
    "<br>\n",
    "\n",
    "## Processos Liberados\n"
   ]
  },
  {
   "cell_type": "code",
   "execution_count": null,
   "id": "ed2f76e6",
   "metadata": {},
   "outputs": [],
   "source": [
    "def get_processosliberados():\n",
    "    # Open Sidebar\n",
    "    open_sidebar()\n",
    "\n",
    "    # Go Page\n",
    "    go_aberturaprocessos()\n",
    "    time.sleep(3)\n",
    "    go_processosliberados()\n",
    "\n",
    "    # Lista Processos\n",
    "    tag = '//*[@class=\"sds-collapse-list sds-card liberacao-collapse-container\"]//*[@class=\"sds-collapse-list__item\"]'\n",
    "    WebDriverWait(driver, 3).until(\n",
    "        EC.presence_of_element_located((By.XPATH, tag)))\n",
    "    list_process = driver.find_elements(By.XPATH, tag)\n",
    "\n",
    "    list_process_text = []\n",
    "    for process in list_process:\n",
    "        list_process_text.append(process.text.split('\\n'))\n",
    "\n",
    "    # Create Dataframe\n",
    "    df = pd.DataFrame(\n",
    "        list_process_text,\n",
    "        columns=['Nome', '-', 'Data de Liberação', '-',\n",
    "                 'Acesso termina em', '-', 'Situação', '-']\n",
    "    )\n",
    "    # print(df.head())\n",
    "\n",
    "    # Edit Dataframe\n",
    "    df[['Processo', 'Interessado', 'Empresa']\n",
    "       ] = df['Nome'].str.split(' - ', n=2, expand=True)\n",
    "\n",
    "    df = df[['Processo', 'Interessado', 'Empresa',\n",
    "             'Data de Liberação', 'Acesso termina em', 'Situação']].copy()\n",
    "\n",
    "    df['Interessado'] = df['Interessado'].replace(\n",
    "        {'Interessado: ': ''}, regex=True)\n",
    "\n",
    "    # Result\n",
    "    return df\n"
   ]
  },
  {
   "cell_type": "code",
   "execution_count": null,
   "id": "f9295c53",
   "metadata": {},
   "outputs": [],
   "source": [
    "# Processos Liberados\n",
    "df_processosliberados = get_processosliberados()\n",
    "df_processosliberados.head()\n"
   ]
  },
  {
   "cell_type": "markdown",
   "id": "02a87cf2",
   "metadata": {},
   "source": [
    "<br>\n",
    "\n",
    "## Select Process e Small Defs\n"
   ]
  },
  {
   "cell_type": "code",
   "execution_count": null,
   "id": "48b9558b",
   "metadata": {},
   "outputs": [],
   "source": [
    "def get_id_liberacao_doc(url):\n",
    "    return os.path.basename(url)\n"
   ]
  },
  {
   "cell_type": "code",
   "execution_count": null,
   "id": "89c41144",
   "metadata": {},
   "outputs": [],
   "source": [
    "def select_processo(df_processosliberados):\n",
    "    # Input\n",
    "    valores = ''.join('{}'.format(list(df_processosliberados.index)))\n",
    "    processo = int(input(\n",
    "        f'Insira o número do índice do processo. O número deve estar entre {valores}: '))\n",
    "\n",
    "    # Check se o processo está no índice\n",
    "    while not(processo in list(df_processosliberados.index)):\n",
    "        print('Número não consta no índice. Por favor, insira um número válido!')\n",
    "        processo = int(input(\n",
    "            f'Insira o número do índice do processo. O número deve estar entre {valores}: '))\n",
    "\n",
    "    # Check situação\n",
    "    processo_situacao = df_processosliberados.loc[processo, 'Situação']\n",
    "    while processo_situacao != 'Acesso ativo':\n",
    "        processo = int(input(\n",
    "            f'Insira o número do índice do processo. O número deve estar entre {valores}: '))\n",
    "\n",
    "    # Result\n",
    "    processo_text = df_processosliberados.loc[processo, 'Processo'].replace(\n",
    "        '.', '_').replace('/', '-')\n",
    "    print(\n",
    "        'O processo escolhido foi \"{processo_text}\" e está com \"{processo_situacao}\"')\n",
    "    return processo, processo_text\n"
   ]
  },
  {
   "cell_type": "code",
   "execution_count": null,
   "id": "7deb9d96",
   "metadata": {},
   "outputs": [],
   "source": [
    "# Select Process\n",
    "processo, processo_text = select_processo(df_processosliberados)\n"
   ]
  },
  {
   "cell_type": "markdown",
   "id": "10a650b7",
   "metadata": {},
   "source": [
    "<br>\n",
    "\n",
    "## Get List Files\n"
   ]
  },
  {
   "cell_type": "code",
   "execution_count": null,
   "id": "c0f07bab",
   "metadata": {},
   "outputs": [],
   "source": [
    "def get_file_list(processo):\n",
    "    # Open Sidebar\n",
    "    open_sidebar()\n",
    "\n",
    "    # Retorna para a janela principal (fora do iframe)\n",
    "    driver.switch_to.default_content()\n",
    "\n",
    "    # Clica em \"Processos Liberados\"\n",
    "    WebDriverWait(driver, 3).until(EC.presence_of_element_located(\n",
    "        (By.XPATH, '//*[@title=\"Processos liberados\"]'))).click()\n",
    "\n",
    "    # Muda o foco para o iframe\n",
    "    iframe = WebDriverWait(driver, 3).until(\n",
    "        EC.presence_of_element_located((By.XPATH, '//*[@id=\"iFrameForm\"]')))\n",
    "    driver.switch_to.frame(iframe)\n",
    "    time.sleep(2)\n",
    "\n",
    "    # Lista Processos\n",
    "    tag = '//*[@class=\"sds-collapse-list sds-card liberacao-collapse-container\"]//*[@class=\"sds-collapse-list__item\"]'\n",
    "    WebDriverWait(driver, 3).until(\n",
    "        EC.presence_of_element_located((By.XPATH, tag)))\n",
    "    list_process = driver.find_elements(By.XPATH, tag)\n",
    "\n",
    "    # Minimiza todos os processos\n",
    "    for process in list_process:\n",
    "        try:\n",
    "            tag = './/button[@class=\"sds-btn sds-btn--icon button-rotate\"]'\n",
    "            WebDriverWait(process, 1).until(\n",
    "                EC.presence_of_element_located((By.XPATH, tag))).click()\n",
    "            print('a')\n",
    "        except:\n",
    "            pass\n",
    "\n",
    "    # Seleciona Processo\n",
    "    WebDriverWait(list_process[processo], 1).until(EC.presence_of_element_located(\n",
    "        (By.XPATH, './/button[@class=\"sds-btn sds-btn--icon\"]'))).click()\n",
    "\n",
    "    # Lista de todos os arquivos do processo\n",
    "    tag = '//*[@id=\"secao-documentos{}\"]//*[@class=\"sds-data-list\"]//*[@class=\"sds-data-list__item\"]'.format(\n",
    "        processo)\n",
    "    WebDriverWait(list_process[processo], 3).until(\n",
    "        EC.presence_of_element_located((By.XPATH, tag)))\n",
    "    files = driver.find_elements(By.XPATH, tag)\n",
    "\n",
    "    # Loop\n",
    "    list_name = []\n",
    "    list_url = []\n",
    "    for file in files:\n",
    "        name = file.text\n",
    "        url = file.find_element(By.XPATH,\n",
    "                                './/*[@class=\"sds-link\"]').get_attribute('href')\n",
    "        list_name.append(name)\n",
    "        list_url.append(url)\n",
    "\n",
    "    # Dataframe\n",
    "    df = pd.DataFrame(\n",
    "        list(zip(list_name, list_url)),\n",
    "        columns=['nome', 'url1']\n",
    "    )\n",
    "    df['nome'] = df['nome'].replace({'file_download ': ''}, regex=True)\n",
    "    df['id_liberacao_doc_1'] = df.apply(\n",
    "        lambda x: get_id_liberacao_doc(x['url1']), axis=1)\n",
    "    return df\n"
   ]
  },
  {
   "cell_type": "code",
   "execution_count": null,
   "id": "0bb5568f",
   "metadata": {},
   "outputs": [],
   "source": [
    "# Get File List\n",
    "df = get_file_list(processo)\n",
    "df.head()\n"
   ]
  },
  {
   "cell_type": "markdown",
   "id": "40d674c0",
   "metadata": {},
   "source": [
    "<br>\n",
    "\n",
    "## Get File\n"
   ]
  },
  {
   "cell_type": "markdown",
   "id": "6686bf11",
   "metadata": {},
   "source": [
    "<br>\n",
    "\n",
    "### Função 1: Pega outras URLs\n"
   ]
  },
  {
   "cell_type": "code",
   "execution_count": null,
   "id": "3e4453a5",
   "metadata": {},
   "outputs": [],
   "source": [
    "def get_url_redirects(url):\n",
    "    # Get URL\n",
    "    driver.get(url)\n",
    "    time.sleep(10)\n",
    "\n",
    "    # TODO: Fazer download dos arquivos zipados.\n",
    "    # id btnDownload\n",
    "\n",
    "    # URL 1\n",
    "    url1 = driver.current_url\n",
    "\n",
    "    # URL 2\n",
    "    url2 = WebDriverWait(driver, 10).until(EC.presence_of_element_located(\n",
    "        (By.XPATH, '//*[@id=\"content\"]'))).get_attribute('src')\n",
    "\n",
    "    # Results\n",
    "    urls = list([url1, url2])\n",
    "    return urls\n"
   ]
  },
  {
   "cell_type": "code",
   "execution_count": null,
   "id": "f9cb42bf",
   "metadata": {},
   "outputs": [],
   "source": [
    "# Adjust Table: Função 1\n",
    "df[['url2', 'url3']] = df.apply(lambda x: get_url_redirects(\n",
    "    x['url1']), axis=1, result_type='expand')\n"
   ]
  },
  {
   "cell_type": "markdown",
   "id": "5ad1416c",
   "metadata": {},
   "source": [
    "<br>\n",
    "\n",
    "### Função 2: Pega Parâmetros\n"
   ]
  },
  {
   "cell_type": "code",
   "execution_count": null,
   "id": "f75a07fa",
   "metadata": {},
   "outputs": [],
   "source": [
    "def adjust_url3(url):\n",
    "    \"\"\"\n",
    "    ddddd\n",
    "\n",
    "    \"\"\"\n",
    "\n",
    "    splitado = url.split(\n",
    "        '&',\n",
    "    )\n",
    "    print(splitado)\n",
    "\n",
    "    go_doc_id = splitado[0].split('?')[-1]\n",
    "    go_doc_id = go_doc_id.split('=')[-1]\n",
    "\n",
    "    id_liberacao_doc = splitado[1]\n",
    "    id_liberacao_doc = id_liberacao_doc.split('=')[-1]\n",
    "\n",
    "    fl_assinado = splitado[2]\n",
    "    fl_assinado = fl_assinado.split('=')[-1]\n",
    "\n",
    "    download_url = splitado[3]\n",
    "    download_url = download_url.split('=')[-1]\n",
    "\n",
    "    return list([go_doc_id, id_liberacao_doc, fl_assinado, download_url])\n"
   ]
  },
  {
   "cell_type": "code",
   "execution_count": null,
   "id": "cfdddd8a",
   "metadata": {},
   "outputs": [],
   "source": [
    "# Adjust Table: Função 2\n",
    "df[['go_doc_id', 'id_liberacao_doc_2', 'fl_assinado', 'download_url']] = df.apply(\n",
    "    lambda x: adjust_url3(x['url3']), axis=1, result_type='expand')\n"
   ]
  },
  {
   "cell_type": "markdown",
   "id": "7046343e",
   "metadata": {},
   "source": [
    "<br>\n",
    "\n",
    "### Função 3: Get URL Download\n"
   ]
  },
  {
   "cell_type": "code",
   "execution_count": null,
   "id": "bc601052",
   "metadata": {},
   "outputs": [],
   "source": [
    "def get_url_download(go_doc_id, id_liberacao_doc):\n",
    "    # Parametros Link\n",
    "    dados = {\n",
    "        'goDocId': go_doc_id,\n",
    "        'visualizaSemEfeito': 'null',\n",
    "        'flSituacaoDoc': 'null',\n",
    "        'flPDF': 'S',\n",
    "        'idLiberacaoDoc': id_liberacao_doc,\n",
    "    }\n",
    "\n",
    "    # URL\n",
    "    ROOT = 'https://e.ambiente.sp.gov.br/cpa-core-backend/interacao/acesso-externo-documento/documento/?'\n",
    "    url = ('{}goDocId={}&visualizaSemEfeito={}&flSituacaoDoc={}&flPDF={}&idLiberacaoDoc={}'.format(\n",
    "        ROOT,\n",
    "        dados['goDocId'],\n",
    "        dados['visualizaSemEfeito'],\n",
    "        dados['flSituacaoDoc'],\n",
    "        dados['flPDF'],\n",
    "        dados['idLiberacaoDoc'],\n",
    "    ))\n",
    "\n",
    "    return url\n"
   ]
  },
  {
   "cell_type": "code",
   "execution_count": null,
   "id": "bab81db5",
   "metadata": {},
   "outputs": [],
   "source": [
    "# Função 3\n",
    "df.loc[:, 'url_download'] = df.apply(lambda x: get_url_download(\n",
    "    x['go_doc_id'], x['id_liberacao_doc_1']), axis=1)\n"
   ]
  },
  {
   "cell_type": "code",
   "execution_count": null,
   "id": "7018bf70",
   "metadata": {},
   "outputs": [],
   "source": [
    "# Reordena Coluna\n",
    "df = df[[\n",
    "    'nome',\n",
    "    'url1',\n",
    "    'url2',\n",
    "    'url3',\n",
    "    'url_download',\n",
    "    'go_doc_id',\n",
    "    'id_liberacao_doc_1',\n",
    "    'id_liberacao_doc_2',\n",
    "    'fl_assinado',\n",
    "    'download_url'\n",
    "]].copy()\n",
    "\n",
    "# Create Directory\n",
    "processo_path = data_path / processo_text\n",
    "processo_path.mkdir(exist_ok=True)\n",
    "\n",
    "# Escreve Tabela\n",
    "df.to_csv(\n",
    "    data_path / 'tab_arquivos.csv',\n",
    "    index=False\n",
    ")\n"
   ]
  },
  {
   "cell_type": "code",
   "execution_count": null,
   "id": "6c2edf31",
   "metadata": {},
   "outputs": [],
   "source": [
    "# Função 1\n",
    "#url = 'https://e.ambiente.sp.gov.br/cpa-core-backend/interacao/acesso-externo-documento/MjczMzM5'\n",
    "#urls = get_url_redirects(url)\n",
    "\n",
    "# Função 2\n",
    "#url = 'https://e.ambiente.sp.gov.br/go-docs-file-viewer/viewer.html?goDocId=8083252&idLiberacaoDoc=MjczMzQz&flAssinado=N&downloadURL=/cpavPastaExterna/services/pasta-digital/arquivo'\n",
    "# adjust_url3(url)\n",
    "\n",
    "# Função 3\n",
    "#go_doc_id = '7995127'\n",
    "#id_liberacao_doc = 'MjczMzM5'\n",
    "#get_url_download(go_doc_id, id_liberacao_doc)\n"
   ]
  },
  {
   "cell_type": "markdown",
   "id": "b4debd9f",
   "metadata": {},
   "source": [
    "<br>\n",
    "\n",
    "## Merge PDFs\n"
   ]
  },
  {
   "cell_type": "code",
   "execution_count": null,
   "id": "376b4289",
   "metadata": {},
   "outputs": [],
   "source": [
    "def merge_files(processo_text):\n",
    "    # ddd\n",
    "    processo_path = data_path / processo_text\n",
    "    filenames = os.listdir(processo_path)\n",
    "    list_files = [\n",
    "        filename for filename in filenames if filename.endswith('.pdf')]\n",
    "\n",
    "    # Lista documentos da Pasta\n",
    "    list_dict = []\n",
    "    for file in list_files:\n",
    "        n = file.split(' - ', 1)[0]\n",
    "        list_dict.append({'id': n, 'nomearquivo': file})\n",
    "\n",
    "    # Dataframe: files\n",
    "    df = pd.DataFrame(list_dict)\n",
    "    df['id'] = pd.to_numeric(df['id'])\n",
    "    df.sort_values(by=['id'], inplace=True)\n",
    "    df.reset_index(inplace=True)\n",
    "    df.drop(['index'], inplace=True, axis=1)\n",
    "\n",
    "    # Call the PdfFileMerger\n",
    "    mergedObject = PdfFileMerger()\n",
    "\n",
    "    for k, v in df.iterrows():\n",
    "        bookmark = v['nomearquivo']\n",
    "        mergedObject.append(PdfFileReader(\n",
    "            processo_path / f'{v[\"nomearquivo\"]}', 'rb'), bookmark)\n",
    "\n",
    "    # Write all the files into a file which is named as shown below\n",
    "    mergedObject.write(processo_path / f'{processo_text}.pdf')\n"
   ]
  },
  {
   "cell_type": "markdown",
   "id": "04507755",
   "metadata": {},
   "source": [
    "<br>\n",
    "\n",
    "# Rull All\n"
   ]
  },
  {
   "cell_type": "code",
   "execution_count": null,
   "id": "833e6d85",
   "metadata": {},
   "outputs": [],
   "source": [
    "# Create Directory\n",
    "processo_path = data_path / processo_text\n",
    "processo_path.mkdir(exist_ok=True)\n",
    "\n",
    "# Lê Tabela\n",
    "df = pd.read_csv(data_path / 'tab_arquivos.csv')\n",
    "df.head()\n"
   ]
  },
  {
   "cell_type": "code",
   "execution_count": null,
   "id": "d0fd225a",
   "metadata": {},
   "outputs": [],
   "source": [
    "# https://stackoverflow.com/questions/29563335/how-do-i-load-session-and-cookies-from-selenium-browser-to-requests-library-in-p\n",
    "# Get cookies\n",
    "cookies = driver.get_cookies()\n",
    "\n",
    "# Create session from cookies\n",
    "s = requests.Session()\n",
    "for cookie in cookies:\n",
    "    s.cookies.set(cookie['name'], cookie['value'])\n"
   ]
  },
  {
   "cell_type": "code",
   "execution_count": null,
   "id": "c02b09d0-c9f5-4a28-9342-8c27183fbc5c",
   "metadata": {},
   "outputs": [],
   "source": [
    "# Loop thought table\n",
    "for k, v in df.iterrows():\n",
    "    # ddddddd\n",
    "    i = k+1\n",
    "    url = v['url_download']\n",
    "    url1 = v['url1']\n",
    "    nome = v['nome']\n",
    "    r = s.get(url, stream=True)\n",
    "\n",
    "    # ddddddd\n",
    "    try:\n",
    "        text = r.content.decode('utf-8')\n",
    "    except:\n",
    "        text = 'É PDF!'\n",
    "\n",
    "    # dddd\n",
    "    if text != 'Não foi possível recuperar a liberação externa para este documento':\n",
    "        print(f'Download do arquivo {i} - {nome}')\n",
    "        print(url)\n",
    "        print(' ')\n",
    "\n",
    "        # Salva Arquivo\n",
    "        time.sleep(5)\n",
    "        filename = processo_path / f'{i} - {nome}.pdf'\n",
    "        if r.status_code == 200:\n",
    "            with open(filename, 'wb') as f:\n",
    "                for chunk in r:\n",
    "                    f.write(chunk)\n",
    "                    # f.write(r.content)\n",
    "\n",
    "    # Se for arquivo zipado entra aqui\n",
    "    elif text == 'Não foi possível recuperar a liberação externa para este documento':\n",
    "        print(f'Download do arquivo {i} - {nome}')\n",
    "        print(url1)\n",
    "        print(' ')\n",
    "\n",
    "        # Retorna para a janela principal (fora do iframe)\n",
    "        driver.switch_to.default_content()\n",
    "        driver.implicitly_wait(20)\n",
    "\n",
    "        # sss\n",
    "        driver.get(url1)\n",
    "\n",
    "        # Muda o foco para o iframe\n",
    "        iframe = WebDriverWait(driver, 3).until(\n",
    "            EC.presence_of_element_located((By.XPATH, '//*[@id=\"content\"]')))\n",
    "        driver.switch_to.frame(iframe)\n",
    "\n",
    "        # Clica em Download\n",
    "        WebDriverWait(driver, 3).until(EC.presence_of_element_located(\n",
    "            (By.XPATH, '//*[@id=\"btnDownload\"]'))).click()\n",
    "\n",
    "    else:\n",
    "        print(f'> Erro no download do arquivo {nome}')\n",
    "        print(url)\n",
    "        print(' ')\n"
   ]
  },
  {
   "cell_type": "code",
   "execution_count": null,
   "id": "1cbac8c0",
   "metadata": {},
   "outputs": [],
   "source": [
    "# print(url)\n",
    "# #driver.get(url)\n",
    "# r = s.get(url, stream=True)\n",
    "# r\n"
   ]
  },
  {
   "cell_type": "code",
   "execution_count": null,
   "id": "7db4b703",
   "metadata": {},
   "outputs": [],
   "source": [
    "# filename = processo_path / f'{i} - {nome}.pdf'\n",
    "# if r.status_code == 200:\n",
    "#     with open(filename, 'wb') as f:\n",
    "#         for chunk in r:\n",
    "#             f.write(chunk)\n",
    "#             #f.write(r.content)\n"
   ]
  },
  {
   "cell_type": "markdown",
   "id": "f35fbe72",
   "metadata": {},
   "source": [
    "<br>\n",
    "\n",
    "# ddd\n"
   ]
  },
  {
   "cell_type": "code",
   "execution_count": null,
   "id": "95a83154",
   "metadata": {},
   "outputs": [],
   "source": [
    "# Fecha Driver\n",
    "driver.quit()\n",
    "\n",
    "# Merge PDF\n",
    "# merge_files(processo_text)\n"
   ]
  }
 ],
 "metadata": {
  "kernelspec": {
   "display_name": "Python 3.9.13 ('pablocarreira-py39')",
   "language": "python",
   "name": "python3"
  },
  "language_info": {
   "codemirror_mode": {
    "name": "ipython",
    "version": 3
   },
   "file_extension": ".py",
   "mimetype": "text/x-python",
   "name": "python",
   "nbconvert_exporter": "python",
   "pygments_lexer": "ipython3",
   "version": "3.9.13"
  },
  "toc-autonumbering": true,
  "vscode": {
   "interpreter": {
    "hash": "2bdda54bf0f28693adab761d90c570fb0a7faa3609b365313c0b5d078440c060"
   }
  }
 },
 "nbformat": 4,
 "nbformat_minor": 5
}
