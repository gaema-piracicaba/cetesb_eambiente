{
 "cells": [
  {
   "cell_type": "code",
   "execution_count": null,
   "metadata": {},
   "outputs": [],
   "source": [
    "def go_aberturaprocessos():\n",
    "    \"\"\"\n",
    "    _summary_\n",
    "    TODO: Não serve para nada!\n",
    "    \"\"\"\n",
    "    # Open Sidebar\n",
    "    open_sidebar()\n",
    "\n",
    "    # Clica em \"Processos Liberados\"\n",
    "    WebDriverWait(driver, 20).until(\n",
    "        EC.presence_of_element_located(\n",
    "            (By.XPATH, '//*[@aria-label=\"Abertura de Processos\"]')\n",
    "        )\n",
    "    ).click()"
   ]
  },
  {
   "cell_type": "code",
   "execution_count": null,
   "metadata": {},
   "outputs": [],
   "source": []
  },
  {
   "cell_type": "code",
   "execution_count": null,
   "metadata": {},
   "outputs": [],
   "source": [
    "def check_site():\n",
    "    \"\"\"\n",
    "    _summary_\n",
    "    TODO: Serve pra alguma coisa?\n",
    "    \"\"\"\n",
    "    # ddd\n",
    "    if driver.title != 'Portal de Atendimento':\n",
    "        url = 'https://e.ambiente.sp.gov.br/atendimento/'\n",
    "        driver.get(url)"
   ]
  },
  {
   "cell_type": "code",
   "execution_count": null,
   "metadata": {},
   "outputs": [],
   "source": []
  },
  {
   "cell_type": "code",
   "execution_count": null,
   "metadata": {},
   "outputs": [],
   "source": []
  }
 ],
 "metadata": {
  "kernelspec": {
   "display_name": "pablocarreira-lastest",
   "language": "python",
   "name": "python3"
  },
  "language_info": {
   "codemirror_mode": {
    "name": "ipython",
    "version": 3
   },
   "file_extension": ".py",
   "mimetype": "text/x-python",
   "name": "python",
   "nbconvert_exporter": "python",
   "pygments_lexer": "ipython3",
   "version": "3.10.8 | packaged by conda-forge | (main, Nov 22 2022, 08:16:33) [MSC v.1929 64 bit (AMD64)]"
  },
  "vscode": {
   "interpreter": {
    "hash": "3eff2e4eec0fbea9d660dbbf3c9c38e7f3540f855f42d9d14e44150e78f59c2a"
   }
  }
 },
 "nbformat": 4,
 "nbformat_minor": 2
}
